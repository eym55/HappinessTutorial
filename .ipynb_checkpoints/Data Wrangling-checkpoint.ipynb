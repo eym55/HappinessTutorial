{
 "cells": [
  {
   "cell_type": "markdown",
   "metadata": {},
   "source": [
    "https://mcatalano26.github.io/Data-Science-Final-Project/\n",
    "\n",
    "https://github.com/mcatalano26/Data-Science-Final-Project"
   ]
  },
  {
   "cell_type": "markdown",
   "metadata": {},
   "source": [
    "The first link is a link to the github.io site. The second link is to the github page where you can easily find all of our data."
   ]
  },
  {
   "cell_type": "markdown",
   "metadata": {},
   "source": [
    "# Final Tutorial: The Happiness Project"
   ]
  },
  {
   "cell_type": "markdown",
   "metadata": {},
   "source": [
    "## Intro\n",
    "This project is a collaboration between Matt Catalano and Eli Mendels for our Data Science class with Nick Mattei. We will be examining what metrics correspond to national happiness and then trying to predict which counties in the US will be the happiest."
   ]
  },
  {
   "cell_type": "markdown",
   "metadata": {},
   "source": [
    "## Housekeeping Stuff"
   ]
  },
  {
   "cell_type": "code",
   "execution_count": 1,
   "metadata": {},
   "outputs": [],
   "source": [
    "#pip install geopandas"
   ]
  },
  {
   "cell_type": "code",
   "execution_count": 2,
   "metadata": {},
   "outputs": [],
   "source": [
    "#pip install descartes"
   ]
  },
  {
   "cell_type": "code",
   "execution_count": 3,
   "metadata": {},
   "outputs": [
    {
     "data": {
      "text/html": [
       "<style>.container { width:95% !important; }</style>"
      ],
      "text/plain": [
       "<IPython.core.display.HTML object>"
      ]
     },
     "metadata": {},
     "output_type": "display_data"
    }
   ],
   "source": [
    "#Importing all the necesary libraries. \n",
    "import sqlite3\n",
    "import pandas as pd\n",
    "\n",
    "import geopandas as geo\n",
    "import numpy as np\n",
    "import matplotlib\n",
    "import matplotlib.pyplot as plt\n",
    "from scipy import stats\n",
    "import re\n",
    "import seaborn as sns\n",
    "import sklearn\n",
    "from sklearn import linear_model\n",
    "import random\n",
    "\n",
    "#The below is for formatting and taken from past labs written by Nick Mattei\n",
    "#This lets us show plots inline and also save PDF plots if we want them\n",
    "%matplotlib inline\n",
    "from matplotlib.backends.backend_pdf import PdfPages\n",
    "matplotlib.style.use('fivethirtyeight')\n",
    "\n",
    "# These two things are for Pandas, it widens the notebook and lets us display data easily.\n",
    "from IPython.core.display import display, HTML\n",
    "display(HTML(\"<style>.container { width:95% !important; }</style>\"))\n",
    "\n",
    "#Show all the rows of a dataframe\n",
    "pd.options.display.max_rows = 10000\n",
    "pd.options.display.width = 1000"
   ]
  },
  {
   "cell_type": "markdown",
   "metadata": {},
   "source": [
    "## Examining the Country Data\n",
    "In looking at the country data, the first step is to read it into a dataframe. Once the data has been read, we will clean it to prepare it for analysis and add any other data that we deem important. Finally, once it is in an easy to manipulate form we will do some simple exploratory analysis of the final dataframe."
   ]
  },
  {
   "cell_type": "markdown",
   "metadata": {},
   "source": [
    "### Reading in the Data"
   ]
  },
  {
   "cell_type": "markdown",
   "metadata": {},
   "source": [
    "### World Factbook Data\n",
    "\n",
    "Most of our country data will come from the CIA world factbook. We got the data in csv format from https://github.com/thewiremonkey/factbook.csv. \n",
    "The data is formatted in a collection of spreadsheets each of which contains three columns: an rank, the name, and the value. Each spreadsheet contains one measurement, for example population, so they must be iterated over and then each spreadsheet must be joined on name to the cumulative table.\n",
    "\n",
    "Information about the dataset is found in the categories csv which gives a code and names the measurement for each spreadsheet. This is what will be iterated over to generate the factbook dataframe."
   ]
  },
  {
   "cell_type": "code",
   "execution_count": 4,
   "metadata": {},
   "outputs": [
    {
     "data": {
      "text/html": [
       "<div>\n",
       "<style scoped>\n",
       "    .dataframe tbody tr th:only-of-type {\n",
       "        vertical-align: middle;\n",
       "    }\n",
       "\n",
       "    .dataframe tbody tr th {\n",
       "        vertical-align: top;\n",
       "    }\n",
       "\n",
       "    .dataframe thead th {\n",
       "        text-align: right;\n",
       "    }\n",
       "</style>\n",
       "<table border=\"1\" class=\"dataframe\">\n",
       "  <thead>\n",
       "    <tr style=\"text-align: right;\">\n",
       "      <th></th>\n",
       "      <th>Num</th>\n",
       "      <th>Category</th>\n",
       "      <th>Name</th>\n",
       "    </tr>\n",
       "  </thead>\n",
       "  <tbody>\n",
       "    <tr>\n",
       "      <th>0</th>\n",
       "      <td>2147</td>\n",
       "      <td>Geography</td>\n",
       "      <td>Area</td>\n",
       "    </tr>\n",
       "    <tr>\n",
       "      <th>1</th>\n",
       "      <td>2119</td>\n",
       "      <td>People and Society</td>\n",
       "      <td>Population</td>\n",
       "    </tr>\n",
       "    <tr>\n",
       "      <th>2</th>\n",
       "      <td>2002</td>\n",
       "      <td>People and Society</td>\n",
       "      <td>Population growth rate</td>\n",
       "    </tr>\n",
       "    <tr>\n",
       "      <th>3</th>\n",
       "      <td>2054</td>\n",
       "      <td>People and Society</td>\n",
       "      <td>Birth rate</td>\n",
       "    </tr>\n",
       "    <tr>\n",
       "      <th>4</th>\n",
       "      <td>2066</td>\n",
       "      <td>People and Society</td>\n",
       "      <td>Death rate</td>\n",
       "    </tr>\n",
       "  </tbody>\n",
       "</table>\n",
       "</div>"
      ],
      "text/plain": [
       "    Num            Category                    Name\n",
       "0  2147           Geography                    Area\n",
       "1  2119  People and Society              Population\n",
       "2  2002  People and Society  Population growth rate\n",
       "3  2054  People and Society              Birth rate\n",
       "4  2066  People and Society              Death rate"
      ]
     },
     "execution_count": 4,
     "metadata": {},
     "output_type": "execute_result"
    }
   ],
   "source": [
    "#Reading in a summary of the csv files\n",
    "categories_df = pd.read_csv('categories.csv')\n",
    "categories_df.head()"
   ]
  },
  {
   "cell_type": "code",
   "execution_count": 5,
   "metadata": {},
   "outputs": [],
   "source": [
    "#A string to store part of the file names\n",
    "csv_string = 'WorldFactBookData/c'\n",
    "#Temporary dataframe to store csvs that need to be added to the dataframe. \n",
    "#It's used here to ge the names of each country\n",
    "df_to_add = pd.read_csv('WorldFactBookData/c2147.csv')\n",
    "#Creating the dataframe with just the names\n",
    "factbook_df = pd.DataFrame({'Name' : df_to_add['Name']})\n"
   ]
  },
  {
   "cell_type": "code",
   "execution_count": 6,
   "metadata": {},
   "outputs": [],
   "source": [
    "#Iterating through each file code in the categories list and adding the csv to the dataframe\n",
    "for index, row in categories_df.iterrows():\n",
    "    file_name = csv_string  + str(row['Num']) + '.csv'\n",
    "    df_to_add = pd.read_csv(file_name)\n",
    "    df_to_add = df_to_add.drop(columns=['Pos'])\n",
    "    column_name = row['Name']\n",
    "    df_to_add = df_to_add.rename(columns={\"Value\": column_name})\n",
    "    factbook_df = factbook_df.merge(df_to_add, how = 'left')"
   ]
  },
  {
   "cell_type": "code",
   "execution_count": 7,
   "metadata": {},
   "outputs": [
    {
     "data": {
      "text/html": [
       "<div>\n",
       "<style scoped>\n",
       "    .dataframe tbody tr th:only-of-type {\n",
       "        vertical-align: middle;\n",
       "    }\n",
       "\n",
       "    .dataframe tbody tr th {\n",
       "        vertical-align: top;\n",
       "    }\n",
       "\n",
       "    .dataframe thead th {\n",
       "        text-align: right;\n",
       "    }\n",
       "</style>\n",
       "<table border=\"1\" class=\"dataframe\">\n",
       "  <thead>\n",
       "    <tr style=\"text-align: right;\">\n",
       "      <th></th>\n",
       "      <th>Name</th>\n",
       "      <th>Area</th>\n",
       "      <th>Population</th>\n",
       "      <th>Population growth rate</th>\n",
       "      <th>Birth rate</th>\n",
       "      <th>Death rate</th>\n",
       "      <th>Net migration rate</th>\n",
       "      <th>Maternal mortality rate</th>\n",
       "      <th>Infant mortality rate</th>\n",
       "      <th>Life expectancy at birth</th>\n",
       "      <th>...</th>\n",
       "      <th>Natural gas - imports</th>\n",
       "      <th>Natural gas - proved reserves</th>\n",
       "      <th>Telephones - fixed lines</th>\n",
       "      <th>Telephones - mobile cellular</th>\n",
       "      <th>Internet users</th>\n",
       "      <th>Airports</th>\n",
       "      <th>Railways</th>\n",
       "      <th>Roadways</th>\n",
       "      <th>Waterways</th>\n",
       "      <th>Military expenditures</th>\n",
       "    </tr>\n",
       "  </thead>\n",
       "  <tbody>\n",
       "    <tr>\n",
       "      <th>0</th>\n",
       "      <td>Russia</td>\n",
       "      <td>17098242</td>\n",
       "      <td>1.424238e+08</td>\n",
       "      <td>-0.04</td>\n",
       "      <td>11.60</td>\n",
       "      <td>13.69</td>\n",
       "      <td>1.69</td>\n",
       "      <td>34.0</td>\n",
       "      <td>6.97</td>\n",
       "      <td>70.47</td>\n",
       "      <td>...</td>\n",
       "      <td>8.200000e+09</td>\n",
       "      <td>4.780000e+13</td>\n",
       "      <td>39430000.0</td>\n",
       "      <td>2.210000e+08</td>\n",
       "      <td>84400000.0</td>\n",
       "      <td>1218.0</td>\n",
       "      <td>87157.0</td>\n",
       "      <td>1283387.0</td>\n",
       "      <td>102000.0</td>\n",
       "      <td>3.49</td>\n",
       "    </tr>\n",
       "    <tr>\n",
       "      <th>1</th>\n",
       "      <td>Canada</td>\n",
       "      <td>9984670</td>\n",
       "      <td>3.509984e+07</td>\n",
       "      <td>0.75</td>\n",
       "      <td>10.28</td>\n",
       "      <td>8.42</td>\n",
       "      <td>5.66</td>\n",
       "      <td>12.0</td>\n",
       "      <td>4.65</td>\n",
       "      <td>81.76</td>\n",
       "      <td>...</td>\n",
       "      <td>2.670000e+10</td>\n",
       "      <td>1.889000e+12</td>\n",
       "      <td>16600000.0</td>\n",
       "      <td>2.950000e+07</td>\n",
       "      <td>32400000.0</td>\n",
       "      <td>1467.0</td>\n",
       "      <td>46552.0</td>\n",
       "      <td>1042300.0</td>\n",
       "      <td>636.0</td>\n",
       "      <td>1.24</td>\n",
       "    </tr>\n",
       "    <tr>\n",
       "      <th>2</th>\n",
       "      <td>United States</td>\n",
       "      <td>9826675</td>\n",
       "      <td>3.213689e+08</td>\n",
       "      <td>0.78</td>\n",
       "      <td>12.49</td>\n",
       "      <td>8.15</td>\n",
       "      <td>3.86</td>\n",
       "      <td>21.0</td>\n",
       "      <td>5.87</td>\n",
       "      <td>79.68</td>\n",
       "      <td>...</td>\n",
       "      <td>8.163000e+10</td>\n",
       "      <td>8.734000e+12</td>\n",
       "      <td>129400000.0</td>\n",
       "      <td>3.174000e+08</td>\n",
       "      <td>276600000.0</td>\n",
       "      <td>13513.0</td>\n",
       "      <td>224792.0</td>\n",
       "      <td>6586610.0</td>\n",
       "      <td>41009.0</td>\n",
       "      <td>4.35</td>\n",
       "    </tr>\n",
       "    <tr>\n",
       "      <th>3</th>\n",
       "      <td>China</td>\n",
       "      <td>9596960</td>\n",
       "      <td>1.367485e+09</td>\n",
       "      <td>0.45</td>\n",
       "      <td>12.49</td>\n",
       "      <td>7.53</td>\n",
       "      <td>-0.44</td>\n",
       "      <td>37.0</td>\n",
       "      <td>12.44</td>\n",
       "      <td>75.41</td>\n",
       "      <td>...</td>\n",
       "      <td>5.190000e+10</td>\n",
       "      <td>3.300000e+12</td>\n",
       "      <td>249400000.0</td>\n",
       "      <td>1.300000e+09</td>\n",
       "      <td>626600000.0</td>\n",
       "      <td>507.0</td>\n",
       "      <td>86000.0</td>\n",
       "      <td>4106387.0</td>\n",
       "      <td>110000.0</td>\n",
       "      <td>1.99</td>\n",
       "    </tr>\n",
       "    <tr>\n",
       "      <th>4</th>\n",
       "      <td>Brazil</td>\n",
       "      <td>8514877</td>\n",
       "      <td>2.042598e+08</td>\n",
       "      <td>0.77</td>\n",
       "      <td>14.46</td>\n",
       "      <td>6.58</td>\n",
       "      <td>-0.14</td>\n",
       "      <td>56.0</td>\n",
       "      <td>18.60</td>\n",
       "      <td>73.53</td>\n",
       "      <td>...</td>\n",
       "      <td>1.385000e+10</td>\n",
       "      <td>3.887000e+11</td>\n",
       "      <td>44100000.0</td>\n",
       "      <td>2.807000e+08</td>\n",
       "      <td>108200000.0</td>\n",
       "      <td>4093.0</td>\n",
       "      <td>28538.0</td>\n",
       "      <td>1580964.0</td>\n",
       "      <td>50000.0</td>\n",
       "      <td>1.47</td>\n",
       "    </tr>\n",
       "  </tbody>\n",
       "</table>\n",
       "<p>5 rows × 74 columns</p>\n",
       "</div>"
      ],
      "text/plain": [
       "            Name      Area    Population  Population growth rate  Birth rate  Death rate  Net migration rate  Maternal mortality rate  Infant mortality rate  Life expectancy at birth  ...  Natural gas - imports  Natural gas - proved reserves  Telephones - fixed lines  Telephones - mobile cellular  Internet users  Airports  Railways   Roadways  Waterways Military expenditures\n",
       "0         Russia  17098242  1.424238e+08                   -0.04       11.60       13.69                1.69                     34.0                   6.97                     70.47  ...           8.200000e+09                   4.780000e+13                39430000.0                  2.210000e+08      84400000.0    1218.0   87157.0  1283387.0   102000.0                  3.49\n",
       "1         Canada   9984670  3.509984e+07                    0.75       10.28        8.42                5.66                     12.0                   4.65                     81.76  ...           2.670000e+10                   1.889000e+12                16600000.0                  2.950000e+07      32400000.0    1467.0   46552.0  1042300.0      636.0                  1.24\n",
       "2  United States   9826675  3.213689e+08                    0.78       12.49        8.15                3.86                     21.0                   5.87                     79.68  ...           8.163000e+10                   8.734000e+12               129400000.0                  3.174000e+08     276600000.0   13513.0  224792.0  6586610.0    41009.0                  4.35\n",
       "3          China   9596960  1.367485e+09                    0.45       12.49        7.53               -0.44                     37.0                  12.44                     75.41  ...           5.190000e+10                   3.300000e+12               249400000.0                  1.300000e+09     626600000.0     507.0   86000.0  4106387.0   110000.0                  1.99\n",
       "4         Brazil   8514877  2.042598e+08                    0.77       14.46        6.58               -0.14                     56.0                  18.60                     73.53  ...           1.385000e+10                   3.887000e+11                44100000.0                  2.807000e+08     108200000.0    4093.0   28538.0  1580964.0    50000.0                  1.47\n",
       "\n",
       "[5 rows x 74 columns]"
      ]
     },
     "execution_count": 7,
     "metadata": {},
     "output_type": "execute_result"
    }
   ],
   "source": [
    "factbook_df.head()"
   ]
  },
  {
   "cell_type": "markdown",
   "metadata": {},
   "source": [
    "### Happiness Data\n",
    "\n",
    "Now that we have a dataframe that stores our data about each country, it's time to look at the results of the happiness survey for each country. This process is fairly easy because it is already in one csv file ready to go."
   ]
  },
  {
   "cell_type": "code",
   "execution_count": 8,
   "metadata": {},
   "outputs": [],
   "source": [
    "happiness_df = pd.read_csv('2015.csv')"
   ]
  },
  {
   "cell_type": "code",
   "execution_count": 9,
   "metadata": {},
   "outputs": [
    {
     "data": {
      "text/html": [
       "<div>\n",
       "<style scoped>\n",
       "    .dataframe tbody tr th:only-of-type {\n",
       "        vertical-align: middle;\n",
       "    }\n",
       "\n",
       "    .dataframe tbody tr th {\n",
       "        vertical-align: top;\n",
       "    }\n",
       "\n",
       "    .dataframe thead th {\n",
       "        text-align: right;\n",
       "    }\n",
       "</style>\n",
       "<table border=\"1\" class=\"dataframe\">\n",
       "  <thead>\n",
       "    <tr style=\"text-align: right;\">\n",
       "      <th></th>\n",
       "      <th>Country</th>\n",
       "      <th>Region</th>\n",
       "      <th>Happiness Rank</th>\n",
       "      <th>Happiness Score</th>\n",
       "      <th>Standard Error</th>\n",
       "      <th>Economy (GDP per Capita)</th>\n",
       "      <th>Family</th>\n",
       "      <th>Health (Life Expectancy)</th>\n",
       "      <th>Freedom</th>\n",
       "      <th>Trust (Government Corruption)</th>\n",
       "      <th>Generosity</th>\n",
       "      <th>Dystopia Residual</th>\n",
       "    </tr>\n",
       "  </thead>\n",
       "  <tbody>\n",
       "    <tr>\n",
       "      <th>0</th>\n",
       "      <td>Switzerland</td>\n",
       "      <td>Western Europe</td>\n",
       "      <td>1</td>\n",
       "      <td>7.587</td>\n",
       "      <td>0.03411</td>\n",
       "      <td>1.39651</td>\n",
       "      <td>1.34951</td>\n",
       "      <td>0.94143</td>\n",
       "      <td>0.66557</td>\n",
       "      <td>0.41978</td>\n",
       "      <td>0.29678</td>\n",
       "      <td>2.51738</td>\n",
       "    </tr>\n",
       "    <tr>\n",
       "      <th>1</th>\n",
       "      <td>Iceland</td>\n",
       "      <td>Western Europe</td>\n",
       "      <td>2</td>\n",
       "      <td>7.561</td>\n",
       "      <td>0.04884</td>\n",
       "      <td>1.30232</td>\n",
       "      <td>1.40223</td>\n",
       "      <td>0.94784</td>\n",
       "      <td>0.62877</td>\n",
       "      <td>0.14145</td>\n",
       "      <td>0.43630</td>\n",
       "      <td>2.70201</td>\n",
       "    </tr>\n",
       "    <tr>\n",
       "      <th>2</th>\n",
       "      <td>Denmark</td>\n",
       "      <td>Western Europe</td>\n",
       "      <td>3</td>\n",
       "      <td>7.527</td>\n",
       "      <td>0.03328</td>\n",
       "      <td>1.32548</td>\n",
       "      <td>1.36058</td>\n",
       "      <td>0.87464</td>\n",
       "      <td>0.64938</td>\n",
       "      <td>0.48357</td>\n",
       "      <td>0.34139</td>\n",
       "      <td>2.49204</td>\n",
       "    </tr>\n",
       "    <tr>\n",
       "      <th>3</th>\n",
       "      <td>Norway</td>\n",
       "      <td>Western Europe</td>\n",
       "      <td>4</td>\n",
       "      <td>7.522</td>\n",
       "      <td>0.03880</td>\n",
       "      <td>1.45900</td>\n",
       "      <td>1.33095</td>\n",
       "      <td>0.88521</td>\n",
       "      <td>0.66973</td>\n",
       "      <td>0.36503</td>\n",
       "      <td>0.34699</td>\n",
       "      <td>2.46531</td>\n",
       "    </tr>\n",
       "    <tr>\n",
       "      <th>4</th>\n",
       "      <td>Canada</td>\n",
       "      <td>North America</td>\n",
       "      <td>5</td>\n",
       "      <td>7.427</td>\n",
       "      <td>0.03553</td>\n",
       "      <td>1.32629</td>\n",
       "      <td>1.32261</td>\n",
       "      <td>0.90563</td>\n",
       "      <td>0.63297</td>\n",
       "      <td>0.32957</td>\n",
       "      <td>0.45811</td>\n",
       "      <td>2.45176</td>\n",
       "    </tr>\n",
       "  </tbody>\n",
       "</table>\n",
       "</div>"
      ],
      "text/plain": [
       "       Country          Region  Happiness Rank  Happiness Score  Standard Error  Economy (GDP per Capita)   Family  Health (Life Expectancy)  Freedom  Trust (Government Corruption)  Generosity  Dystopia Residual\n",
       "0  Switzerland  Western Europe               1            7.587         0.03411                   1.39651  1.34951                   0.94143  0.66557                        0.41978     0.29678            2.51738\n",
       "1      Iceland  Western Europe               2            7.561         0.04884                   1.30232  1.40223                   0.94784  0.62877                        0.14145     0.43630            2.70201\n",
       "2      Denmark  Western Europe               3            7.527         0.03328                   1.32548  1.36058                   0.87464  0.64938                        0.48357     0.34139            2.49204\n",
       "3       Norway  Western Europe               4            7.522         0.03880                   1.45900  1.33095                   0.88521  0.66973                        0.36503     0.34699            2.46531\n",
       "4       Canada   North America               5            7.427         0.03553                   1.32629  1.32261                   0.90563  0.63297                        0.32957     0.45811            2.45176"
      ]
     },
     "execution_count": 9,
     "metadata": {},
     "output_type": "execute_result"
    }
   ],
   "source": [
    "happiness_df.head()"
   ]
  },
  {
   "cell_type": "markdown",
   "metadata": {},
   "source": [
    "## Combining the Country Data\n",
    "\n",
    "The next step is to combine the two data sets with country data. This will be done with a simple left join on the happiness dataframe because we are only interested in the countries that have a happiness score. \n",
    "\n",
    "The first thing we will do is find out which countries are in the happiness survey but not the world factbook. Once that is done, decisions will be made on a case by case basis to determine whether the data needs to be manipulated for the join to work or if those specific rows need to be dropped. Since some countries go by different names in the two different datasets, it is likely that some names will need to be changed in one data set so that the primary keys match up."
   ]
  },
  {
   "cell_type": "code",
   "execution_count": 10,
   "metadata": {},
   "outputs": [
    {
     "data": {
      "text/html": [
       "<div>\n",
       "<style scoped>\n",
       "    .dataframe tbody tr th:only-of-type {\n",
       "        vertical-align: middle;\n",
       "    }\n",
       "\n",
       "    .dataframe tbody tr th {\n",
       "        vertical-align: top;\n",
       "    }\n",
       "\n",
       "    .dataframe thead th {\n",
       "        text-align: right;\n",
       "    }\n",
       "</style>\n",
       "<table border=\"1\" class=\"dataframe\">\n",
       "  <thead>\n",
       "    <tr style=\"text-align: right;\">\n",
       "      <th></th>\n",
       "      <th>Country</th>\n",
       "      <th>Region</th>\n",
       "      <th>Happiness Rank</th>\n",
       "      <th>Happiness Score</th>\n",
       "      <th>Standard Error</th>\n",
       "      <th>Economy (GDP per Capita)</th>\n",
       "      <th>Family</th>\n",
       "      <th>Health (Life Expectancy)</th>\n",
       "      <th>Freedom</th>\n",
       "      <th>Trust (Government Corruption)</th>\n",
       "      <th>...</th>\n",
       "      <th>Natural gas - imports</th>\n",
       "      <th>Natural gas - proved reserves</th>\n",
       "      <th>Telephones - fixed lines</th>\n",
       "      <th>Telephones - mobile cellular</th>\n",
       "      <th>Internet users</th>\n",
       "      <th>Airports</th>\n",
       "      <th>Railways</th>\n",
       "      <th>Roadways</th>\n",
       "      <th>Waterways</th>\n",
       "      <th>Military expenditures</th>\n",
       "    </tr>\n",
       "  </thead>\n",
       "  <tbody>\n",
       "    <tr>\n",
       "      <th>46</th>\n",
       "      <td>South Korea</td>\n",
       "      <td>Eastern Asia</td>\n",
       "      <td>47</td>\n",
       "      <td>5.984</td>\n",
       "      <td>0.04098</td>\n",
       "      <td>1.24461</td>\n",
       "      <td>0.95774</td>\n",
       "      <td>0.96538</td>\n",
       "      <td>0.33208</td>\n",
       "      <td>0.07857</td>\n",
       "      <td>...</td>\n",
       "      <td>NaN</td>\n",
       "      <td>NaN</td>\n",
       "      <td>NaN</td>\n",
       "      <td>NaN</td>\n",
       "      <td>NaN</td>\n",
       "      <td>NaN</td>\n",
       "      <td>NaN</td>\n",
       "      <td>NaN</td>\n",
       "      <td>NaN</td>\n",
       "      <td>NaN</td>\n",
       "    </tr>\n",
       "    <tr>\n",
       "      <th>65</th>\n",
       "      <td>North Cyprus</td>\n",
       "      <td>Western Europe</td>\n",
       "      <td>66</td>\n",
       "      <td>5.695</td>\n",
       "      <td>0.05635</td>\n",
       "      <td>1.20806</td>\n",
       "      <td>1.07008</td>\n",
       "      <td>0.92356</td>\n",
       "      <td>0.49027</td>\n",
       "      <td>0.14280</td>\n",
       "      <td>...</td>\n",
       "      <td>NaN</td>\n",
       "      <td>NaN</td>\n",
       "      <td>NaN</td>\n",
       "      <td>NaN</td>\n",
       "      <td>NaN</td>\n",
       "      <td>NaN</td>\n",
       "      <td>NaN</td>\n",
       "      <td>NaN</td>\n",
       "      <td>NaN</td>\n",
       "      <td>NaN</td>\n",
       "    </tr>\n",
       "    <tr>\n",
       "      <th>90</th>\n",
       "      <td>Somaliland region</td>\n",
       "      <td>Sub-Saharan Africa</td>\n",
       "      <td>91</td>\n",
       "      <td>5.057</td>\n",
       "      <td>0.06161</td>\n",
       "      <td>0.18847</td>\n",
       "      <td>0.95152</td>\n",
       "      <td>0.43873</td>\n",
       "      <td>0.46582</td>\n",
       "      <td>0.39928</td>\n",
       "      <td>...</td>\n",
       "      <td>NaN</td>\n",
       "      <td>NaN</td>\n",
       "      <td>NaN</td>\n",
       "      <td>NaN</td>\n",
       "      <td>NaN</td>\n",
       "      <td>NaN</td>\n",
       "      <td>NaN</td>\n",
       "      <td>NaN</td>\n",
       "      <td>NaN</td>\n",
       "      <td>NaN</td>\n",
       "    </tr>\n",
       "    <tr>\n",
       "      <th>107</th>\n",
       "      <td>Palestinian Territories</td>\n",
       "      <td>Middle East and Northern Africa</td>\n",
       "      <td>108</td>\n",
       "      <td>4.715</td>\n",
       "      <td>0.04394</td>\n",
       "      <td>0.59867</td>\n",
       "      <td>0.92558</td>\n",
       "      <td>0.66015</td>\n",
       "      <td>0.24499</td>\n",
       "      <td>0.12905</td>\n",
       "      <td>...</td>\n",
       "      <td>NaN</td>\n",
       "      <td>NaN</td>\n",
       "      <td>NaN</td>\n",
       "      <td>NaN</td>\n",
       "      <td>NaN</td>\n",
       "      <td>NaN</td>\n",
       "      <td>NaN</td>\n",
       "      <td>NaN</td>\n",
       "      <td>NaN</td>\n",
       "      <td>NaN</td>\n",
       "    </tr>\n",
       "    <tr>\n",
       "      <th>119</th>\n",
       "      <td>Congo (Kinshasa)</td>\n",
       "      <td>Sub-Saharan Africa</td>\n",
       "      <td>120</td>\n",
       "      <td>4.517</td>\n",
       "      <td>0.03680</td>\n",
       "      <td>0.00000</td>\n",
       "      <td>1.00120</td>\n",
       "      <td>0.09806</td>\n",
       "      <td>0.22605</td>\n",
       "      <td>0.07625</td>\n",
       "      <td>...</td>\n",
       "      <td>NaN</td>\n",
       "      <td>NaN</td>\n",
       "      <td>NaN</td>\n",
       "      <td>NaN</td>\n",
       "      <td>NaN</td>\n",
       "      <td>NaN</td>\n",
       "      <td>NaN</td>\n",
       "      <td>NaN</td>\n",
       "      <td>NaN</td>\n",
       "      <td>NaN</td>\n",
       "    </tr>\n",
       "    <tr>\n",
       "      <th>128</th>\n",
       "      <td>Myanmar</td>\n",
       "      <td>Southeastern Asia</td>\n",
       "      <td>129</td>\n",
       "      <td>4.307</td>\n",
       "      <td>0.04351</td>\n",
       "      <td>0.27108</td>\n",
       "      <td>0.70905</td>\n",
       "      <td>0.48246</td>\n",
       "      <td>0.44017</td>\n",
       "      <td>0.19034</td>\n",
       "      <td>...</td>\n",
       "      <td>NaN</td>\n",
       "      <td>NaN</td>\n",
       "      <td>NaN</td>\n",
       "      <td>NaN</td>\n",
       "      <td>NaN</td>\n",
       "      <td>NaN</td>\n",
       "      <td>NaN</td>\n",
       "      <td>NaN</td>\n",
       "      <td>NaN</td>\n",
       "      <td>NaN</td>\n",
       "    </tr>\n",
       "    <tr>\n",
       "      <th>138</th>\n",
       "      <td>Congo (Brazzaville)</td>\n",
       "      <td>Sub-Saharan Africa</td>\n",
       "      <td>139</td>\n",
       "      <td>3.989</td>\n",
       "      <td>0.06682</td>\n",
       "      <td>0.67866</td>\n",
       "      <td>0.66290</td>\n",
       "      <td>0.31051</td>\n",
       "      <td>0.41466</td>\n",
       "      <td>0.11686</td>\n",
       "      <td>...</td>\n",
       "      <td>NaN</td>\n",
       "      <td>NaN</td>\n",
       "      <td>NaN</td>\n",
       "      <td>NaN</td>\n",
       "      <td>NaN</td>\n",
       "      <td>NaN</td>\n",
       "      <td>NaN</td>\n",
       "      <td>NaN</td>\n",
       "      <td>NaN</td>\n",
       "      <td>NaN</td>\n",
       "    </tr>\n",
       "    <tr>\n",
       "      <th>150</th>\n",
       "      <td>Ivory Coast</td>\n",
       "      <td>Sub-Saharan Africa</td>\n",
       "      <td>151</td>\n",
       "      <td>3.655</td>\n",
       "      <td>0.05141</td>\n",
       "      <td>0.46534</td>\n",
       "      <td>0.77115</td>\n",
       "      <td>0.15185</td>\n",
       "      <td>0.46866</td>\n",
       "      <td>0.17922</td>\n",
       "      <td>...</td>\n",
       "      <td>NaN</td>\n",
       "      <td>NaN</td>\n",
       "      <td>NaN</td>\n",
       "      <td>NaN</td>\n",
       "      <td>NaN</td>\n",
       "      <td>NaN</td>\n",
       "      <td>NaN</td>\n",
       "      <td>NaN</td>\n",
       "      <td>NaN</td>\n",
       "      <td>NaN</td>\n",
       "    </tr>\n",
       "  </tbody>\n",
       "</table>\n",
       "<p>8 rows × 86 columns</p>\n",
       "</div>"
      ],
      "text/plain": [
       "                     Country                           Region  Happiness Rank  Happiness Score  Standard Error  Economy (GDP per Capita)   Family  Health (Life Expectancy)  Freedom  Trust (Government Corruption)  ...  Natural gas - imports  Natural gas - proved reserves Telephones - fixed lines  Telephones - mobile cellular  Internet users  Airports  Railways  Roadways  Waterways  Military expenditures\n",
       "46               South Korea                     Eastern Asia              47            5.984         0.04098                   1.24461  0.95774                   0.96538  0.33208                        0.07857  ...                    NaN                            NaN                      NaN                           NaN             NaN       NaN       NaN       NaN        NaN                    NaN\n",
       "65              North Cyprus                   Western Europe              66            5.695         0.05635                   1.20806  1.07008                   0.92356  0.49027                        0.14280  ...                    NaN                            NaN                      NaN                           NaN             NaN       NaN       NaN       NaN        NaN                    NaN\n",
       "90         Somaliland region               Sub-Saharan Africa              91            5.057         0.06161                   0.18847  0.95152                   0.43873  0.46582                        0.39928  ...                    NaN                            NaN                      NaN                           NaN             NaN       NaN       NaN       NaN        NaN                    NaN\n",
       "107  Palestinian Territories  Middle East and Northern Africa             108            4.715         0.04394                   0.59867  0.92558                   0.66015  0.24499                        0.12905  ...                    NaN                            NaN                      NaN                           NaN             NaN       NaN       NaN       NaN        NaN                    NaN\n",
       "119         Congo (Kinshasa)               Sub-Saharan Africa             120            4.517         0.03680                   0.00000  1.00120                   0.09806  0.22605                        0.07625  ...                    NaN                            NaN                      NaN                           NaN             NaN       NaN       NaN       NaN        NaN                    NaN\n",
       "128                  Myanmar                Southeastern Asia             129            4.307         0.04351                   0.27108  0.70905                   0.48246  0.44017                        0.19034  ...                    NaN                            NaN                      NaN                           NaN             NaN       NaN       NaN       NaN        NaN                    NaN\n",
       "138      Congo (Brazzaville)               Sub-Saharan Africa             139            3.989         0.06682                   0.67866  0.66290                   0.31051  0.41466                        0.11686  ...                    NaN                            NaN                      NaN                           NaN             NaN       NaN       NaN       NaN        NaN                    NaN\n",
       "150              Ivory Coast               Sub-Saharan Africa             151            3.655         0.05141                   0.46534  0.77115                   0.15185  0.46866                        0.17922  ...                    NaN                            NaN                      NaN                           NaN             NaN       NaN       NaN       NaN        NaN                    NaN\n",
       "\n",
       "[8 rows x 86 columns]"
      ]
     },
     "execution_count": 10,
     "metadata": {},
     "output_type": "execute_result"
    }
   ],
   "source": [
    "#An initial merge to find which countries names need to be manually changed for the match. \n",
    "#Since there are only 8 countries they will be addressed manually\n",
    "prelim_merge = happiness_df.merge(factbook_df, how = 'left', left_on = 'Country', right_on = 'Name')\n",
    "countries_to_match = prelim_merge[prelim_merge['Area'].isnull()]\n",
    "countries_to_match"
   ]
  },
  {
   "cell_type": "markdown",
   "metadata": {},
   "source": [
    "The countries that are recognized in both dataframes are renamed below and the countries not universally recognized will be dropped. This is the first major decision we will make with regards to missing data. In the end we decided to not look at North Cyprus, Somaliland, or Palestine as these regions are contested and not widely recognized."
   ]
  },
  {
   "cell_type": "code",
   "execution_count": 11,
   "metadata": {},
   "outputs": [],
   "source": [
    "#Renaming Korea, South to South Korea in the factbook_df\n",
    "factbook_df.at[108, 'Name'] = 'South Korea'\n",
    "#Renaming Burma to Myanmar in the factbook_df\n",
    "factbook_df.at[39, 'Name'] = 'Myanmar'\n",
    "#Renaming Cote d'Ivoire to Ivory Coast in the factbook_df\n",
    "factbook_df.at[68, 'Name'] = 'Ivory Coast'\n",
    "#Renaming Congo, Republic of the to Congo (Brazzaville) in the factbook_df\n",
    "factbook_df.at[63, 'Name'] = 'Congo (Brazzaville)'\n",
    "#Renaming Congo, Democratic Republic of the to Congo (Kinshasa) in the factbook_df\n",
    "factbook_df.at[10, 'Name'] = 'Congo (Kinshasa)'"
   ]
  },
  {
   "cell_type": "code",
   "execution_count": 12,
   "metadata": {},
   "outputs": [],
   "source": [
    "#Creating a final dataframe to store all of our country data\n",
    "countries_df = happiness_df.merge(factbook_df, how = 'left', left_on = 'Country', right_on = 'Name')"
   ]
  },
  {
   "cell_type": "code",
   "execution_count": 13,
   "metadata": {},
   "outputs": [
    {
     "data": {
      "text/html": [
       "<div>\n",
       "<style scoped>\n",
       "    .dataframe tbody tr th:only-of-type {\n",
       "        vertical-align: middle;\n",
       "    }\n",
       "\n",
       "    .dataframe tbody tr th {\n",
       "        vertical-align: top;\n",
       "    }\n",
       "\n",
       "    .dataframe thead th {\n",
       "        text-align: right;\n",
       "    }\n",
       "</style>\n",
       "<table border=\"1\" class=\"dataframe\">\n",
       "  <thead>\n",
       "    <tr style=\"text-align: right;\">\n",
       "      <th></th>\n",
       "      <th>Country</th>\n",
       "      <th>Region</th>\n",
       "      <th>Happiness Rank</th>\n",
       "      <th>Happiness Score</th>\n",
       "      <th>Standard Error</th>\n",
       "      <th>Economy (GDP per Capita)</th>\n",
       "      <th>Family</th>\n",
       "      <th>Health (Life Expectancy)</th>\n",
       "      <th>Freedom</th>\n",
       "      <th>Trust (Government Corruption)</th>\n",
       "      <th>...</th>\n",
       "      <th>Natural gas - imports</th>\n",
       "      <th>Natural gas - proved reserves</th>\n",
       "      <th>Telephones - fixed lines</th>\n",
       "      <th>Telephones - mobile cellular</th>\n",
       "      <th>Internet users</th>\n",
       "      <th>Airports</th>\n",
       "      <th>Railways</th>\n",
       "      <th>Roadways</th>\n",
       "      <th>Waterways</th>\n",
       "      <th>Military expenditures</th>\n",
       "    </tr>\n",
       "  </thead>\n",
       "  <tbody>\n",
       "    <tr>\n",
       "      <th>0</th>\n",
       "      <td>Switzerland</td>\n",
       "      <td>Western Europe</td>\n",
       "      <td>1</td>\n",
       "      <td>7.587</td>\n",
       "      <td>0.03411</td>\n",
       "      <td>1.39651</td>\n",
       "      <td>1.34951</td>\n",
       "      <td>0.94143</td>\n",
       "      <td>0.66557</td>\n",
       "      <td>0.41978</td>\n",
       "      <td>...</td>\n",
       "      <td>3.764000e+09</td>\n",
       "      <td>0.000000e+00</td>\n",
       "      <td>4370000.0</td>\n",
       "      <td>11500000.0</td>\n",
       "      <td>7100000.0</td>\n",
       "      <td>63.0</td>\n",
       "      <td>4876.0</td>\n",
       "      <td>71464.0</td>\n",
       "      <td>1292.0</td>\n",
       "      <td>0.76</td>\n",
       "    </tr>\n",
       "    <tr>\n",
       "      <th>1</th>\n",
       "      <td>Iceland</td>\n",
       "      <td>Western Europe</td>\n",
       "      <td>2</td>\n",
       "      <td>7.561</td>\n",
       "      <td>0.04884</td>\n",
       "      <td>1.30232</td>\n",
       "      <td>1.40223</td>\n",
       "      <td>0.94784</td>\n",
       "      <td>0.62877</td>\n",
       "      <td>0.14145</td>\n",
       "      <td>...</td>\n",
       "      <td>0.000000e+00</td>\n",
       "      <td>0.000000e+00</td>\n",
       "      <td>170000.0</td>\n",
       "      <td>370000.0</td>\n",
       "      <td>316400.0</td>\n",
       "      <td>96.0</td>\n",
       "      <td>NaN</td>\n",
       "      <td>12890.0</td>\n",
       "      <td>NaN</td>\n",
       "      <td>0.13</td>\n",
       "    </tr>\n",
       "    <tr>\n",
       "      <th>2</th>\n",
       "      <td>Denmark</td>\n",
       "      <td>Western Europe</td>\n",
       "      <td>3</td>\n",
       "      <td>7.527</td>\n",
       "      <td>0.03328</td>\n",
       "      <td>1.32548</td>\n",
       "      <td>1.36058</td>\n",
       "      <td>0.87464</td>\n",
       "      <td>0.64938</td>\n",
       "      <td>0.48357</td>\n",
       "      <td>...</td>\n",
       "      <td>1.363000e+09</td>\n",
       "      <td>4.301000e+10</td>\n",
       "      <td>1880000.0</td>\n",
       "      <td>7100000.0</td>\n",
       "      <td>5400000.0</td>\n",
       "      <td>80.0</td>\n",
       "      <td>2667.0</td>\n",
       "      <td>73929.0</td>\n",
       "      <td>400.0</td>\n",
       "      <td>1.41</td>\n",
       "    </tr>\n",
       "    <tr>\n",
       "      <th>3</th>\n",
       "      <td>Norway</td>\n",
       "      <td>Western Europe</td>\n",
       "      <td>4</td>\n",
       "      <td>7.522</td>\n",
       "      <td>0.03880</td>\n",
       "      <td>1.45900</td>\n",
       "      <td>1.33095</td>\n",
       "      <td>0.88521</td>\n",
       "      <td>0.66973</td>\n",
       "      <td>0.36503</td>\n",
       "      <td>...</td>\n",
       "      <td>2.000000e+06</td>\n",
       "      <td>2.090000e+12</td>\n",
       "      <td>1160000.0</td>\n",
       "      <td>5900000.0</td>\n",
       "      <td>4900000.0</td>\n",
       "      <td>95.0</td>\n",
       "      <td>4237.0</td>\n",
       "      <td>93870.0</td>\n",
       "      <td>1577.0</td>\n",
       "      <td>1.40</td>\n",
       "    </tr>\n",
       "    <tr>\n",
       "      <th>4</th>\n",
       "      <td>Canada</td>\n",
       "      <td>North America</td>\n",
       "      <td>5</td>\n",
       "      <td>7.427</td>\n",
       "      <td>0.03553</td>\n",
       "      <td>1.32629</td>\n",
       "      <td>1.32261</td>\n",
       "      <td>0.90563</td>\n",
       "      <td>0.63297</td>\n",
       "      <td>0.32957</td>\n",
       "      <td>...</td>\n",
       "      <td>2.670000e+10</td>\n",
       "      <td>1.889000e+12</td>\n",
       "      <td>16600000.0</td>\n",
       "      <td>29500000.0</td>\n",
       "      <td>32400000.0</td>\n",
       "      <td>1467.0</td>\n",
       "      <td>46552.0</td>\n",
       "      <td>1042300.0</td>\n",
       "      <td>636.0</td>\n",
       "      <td>1.24</td>\n",
       "    </tr>\n",
       "  </tbody>\n",
       "</table>\n",
       "<p>5 rows × 86 columns</p>\n",
       "</div>"
      ],
      "text/plain": [
       "       Country          Region  Happiness Rank  Happiness Score  Standard Error  Economy (GDP per Capita)   Family  Health (Life Expectancy)  Freedom  Trust (Government Corruption)  ...  Natural gas - imports  Natural gas - proved reserves Telephones - fixed lines  Telephones - mobile cellular  Internet users  Airports  Railways   Roadways  Waterways  Military expenditures\n",
       "0  Switzerland  Western Europe               1            7.587         0.03411                   1.39651  1.34951                   0.94143  0.66557                        0.41978  ...           3.764000e+09                   0.000000e+00                4370000.0                    11500000.0       7100000.0      63.0    4876.0    71464.0     1292.0                   0.76\n",
       "1      Iceland  Western Europe               2            7.561         0.04884                   1.30232  1.40223                   0.94784  0.62877                        0.14145  ...           0.000000e+00                   0.000000e+00                 170000.0                      370000.0        316400.0      96.0       NaN    12890.0        NaN                   0.13\n",
       "2      Denmark  Western Europe               3            7.527         0.03328                   1.32548  1.36058                   0.87464  0.64938                        0.48357  ...           1.363000e+09                   4.301000e+10                1880000.0                     7100000.0       5400000.0      80.0    2667.0    73929.0      400.0                   1.41\n",
       "3       Norway  Western Europe               4            7.522         0.03880                   1.45900  1.33095                   0.88521  0.66973                        0.36503  ...           2.000000e+06                   2.090000e+12                1160000.0                     5900000.0       4900000.0      95.0    4237.0    93870.0     1577.0                   1.40\n",
       "4       Canada   North America               5            7.427         0.03553                   1.32629  1.32261                   0.90563  0.63297                        0.32957  ...           2.670000e+10                   1.889000e+12               16600000.0                    29500000.0      32400000.0    1467.0   46552.0  1042300.0      636.0                   1.24\n",
       "\n",
       "[5 rows x 86 columns]"
      ]
     },
     "execution_count": 13,
     "metadata": {},
     "output_type": "execute_result"
    }
   ],
   "source": [
    "countries_df.head()"
   ]
  },
  {
   "cell_type": "markdown",
   "metadata": {},
   "source": [
    "## Cleaning the Country Data\n",
    "\n",
    "Now that we have the country dataframe it is time to clean it. This means dropping any unnecesary columns, ensuring each column is of the right type, and performing operations on some columns to make them better suited for maniuplation"
   ]
  },
  {
   "cell_type": "markdown",
   "metadata": {},
   "source": [
    "The first step will be to remove all the columns that we won't be looking at. We will start by removing the columns that came with the happiness data as they were already selected as indicators of happiness and could not exist on a county level. Then, we will remove a variety of other columns that we know won't exist at a county level. Note that not all such columns are removed mostly ones having to do with national finances."
   ]
  },
  {
   "cell_type": "code",
   "execution_count": 14,
   "metadata": {},
   "outputs": [],
   "source": [
    "#Creating a list of columns to be removed\n",
    "columns_to_be_removed = ['Reserves of foreign exchange and gold', \n",
    "                         'Standard Error', 'Dystopia Residual', 'Generosity', 'Trust (Government Corruption)', 'Area', 'Gross national saving', \n",
    "                         'Inflation rate (consumer prices)', 'Central bank discount rate', \n",
    "                         'Commercial bank prime lending rate', 'Stock of narrow money', \n",
    "                         'Stock of broad money', 'Stock of domestic credit', \n",
    "                         'Market value of publicly traded shares', 'Current account balance', \n",
    "                         'Stock of direct foreign investment - at home', \n",
    "                         'Stock of direct foreign investment - abroad','Economy (GDP per Capita)',\n",
    "                         'Family', 'Health (Life Expectancy)', 'Freedom','Name','Railways', 'Waterways']\n",
    "countries_df = countries_df.drop(columns_to_be_removed, axis = 1)"
   ]
  },
  {
   "cell_type": "markdown",
   "metadata": {},
   "source": [
    "Once those columns are dropped, we will make sure each column is of the correct dtype. To do this, we will use the pd.DataFrame.dtypes method to look at the dypes of each column and determine which columns are not correct. We will then convert them to the correct once. In this case this involves removing dollar signs and commas from numbers then converting to float64s."
   ]
  },
  {
   "cell_type": "code",
   "execution_count": 15,
   "metadata": {},
   "outputs": [],
   "source": [
    "#Creating a list of all the columns with a leading dollar sign that need to be converted to int64\n",
    "object_cols = ['GDP (purchasing power parity)','GDP - per capita (PPP)','Exports', 'Imports', 'Debt - external']\n",
    "#Iterating through the list, removing any non numereical symbols and then casting as float64\n",
    "for i in object_cols:\n",
    "    #Using a (poorly executed) Regex fucntion to convert to a number\n",
    "    countries_df[i] = countries_df[i].str.replace(',', \"\")\n",
    "    countries_df[i] = countries_df[i].str.replace('$', \"\")\n",
    "    \n",
    "    countries_df[i] = countries_df[i].astype('float64')"
   ]
  },
  {
   "cell_type": "markdown",
   "metadata": {},
   "source": [
    "The next data conversion that needs to be done is converting gross metrics into per capita metrics. This is done by creating a list of all the gross metrics, iterating over them to create a column with the per capita version of the metric, and then removing the redundant gross metric column."
   ]
  },
  {
   "cell_type": "code",
   "execution_count": 16,
   "metadata": {},
   "outputs": [],
   "source": [
    "gross_measurements = ['Health expenditures', \"HIV/AIDS - people living with HIV/AIDS\", \"HIV/AIDS - deaths\",\n",
    "                           'Children under the age of 5 years underweight', \"Education expenditures\",\n",
    "                           'Telephones - fixed lines', 'Telephones - mobile cellular', \"Internet users\",\n",
    "                           'Military expenditures', 'Labor force',  'Public debt', 'Electricity - production', \n",
    "                           'Electricity - consumption','Electricity - exports', 'Electricity - imports',\n",
    "                           'Electricity - installed generating capacity', 'Electricity - from fossil fuels',\n",
    "                           'Electricity - from nuclear fuels','Electricity - from hydroelectric plants',\n",
    "                           'Electricity - from other renewable sources',\"Airports\",\"Roadways\"]\n",
    "for i in gross_measurements:\n",
    "    countries_df[i + ' per capita'] = countries_df[i] / countries_df[\"Population\"]\n",
    "    countries_df = countries_df.drop([i], axis=1)"
   ]
  },
  {
   "cell_type": "markdown",
   "metadata": {},
   "source": [
    "Now that we have a clean dataset we will create a standardized version of it. This will allow us to compare across data sets which will be necesary when we start to look at the county data. It is easy to standardize a dataframe of only numerical data so I will extract the string columns, standardize the numerical dataframe and then add the string columns back."
   ]
  },
  {
   "cell_type": "code",
   "execution_count": 17,
   "metadata": {},
   "outputs": [
    {
     "data": {
      "text/plain": [
       "array(['Country', 'Region', 'Happiness Rank', 'Happiness Score',\n",
       "       'Population', 'Population growth rate', 'Birth rate', 'Death rate',\n",
       "       'Net migration rate', 'Maternal mortality rate',\n",
       "       'Infant mortality rate', 'Life expectancy at birth',\n",
       "       'Total fertility rate', 'HIV/AIDS - adult prevalence rate',\n",
       "       'Obesity - adult prevalence rate',\n",
       "       'Unemployment, youth ages 15-24', 'GDP (purchasing power parity)',\n",
       "       'GDP - real growth rate', 'GDP - per capita (PPP)',\n",
       "       'Industrial production growth rate', 'Unemployment rate',\n",
       "       'Distribution of family income - Gini index',\n",
       "       'Taxes and other revenues', 'Budget surplus (+) or deficit (-)',\n",
       "       'Exports', 'Imports', 'Debt - external', 'Crude oil - production',\n",
       "       'Crude oil - exports', 'Crude oil - imports',\n",
       "       'Crude oil - proved reserves',\n",
       "       'Refined petroleum products - production',\n",
       "       'Refined petroleum products - consumption',\n",
       "       'Refined petroleum products - exports',\n",
       "       'Refined petroleum products - imports', 'Natural gas - production',\n",
       "       'Natural gas - consumption', 'Natural gas - exports',\n",
       "       'Natural gas - imports', 'Natural gas - proved reserves',\n",
       "       'Health expenditures per capita',\n",
       "       'HIV/AIDS - people living with HIV/AIDS per capita',\n",
       "       'HIV/AIDS - deaths per capita',\n",
       "       'Children under the age of 5 years underweight per capita',\n",
       "       'Education expenditures per capita',\n",
       "       'Telephones - fixed lines per capita',\n",
       "       'Telephones - mobile cellular per capita',\n",
       "       'Internet users per capita', 'Military expenditures per capita',\n",
       "       'Labor force per capita', 'Public debt per capita',\n",
       "       'Electricity - production per capita',\n",
       "       'Electricity - consumption per capita',\n",
       "       'Electricity - exports per capita',\n",
       "       'Electricity - imports per capita',\n",
       "       'Electricity - installed generating capacity per capita',\n",
       "       'Electricity - from fossil fuels per capita',\n",
       "       'Electricity - from nuclear fuels per capita',\n",
       "       'Electricity - from hydroelectric plants per capita',\n",
       "       'Electricity - from other renewable sources per capita',\n",
       "       'Airports per capita', 'Roadways per capita'], dtype=object)"
      ]
     },
     "execution_count": 17,
     "metadata": {},
     "output_type": "execute_result"
    }
   ],
   "source": [
    "#Creating the numerical dataframe\n",
    "numerical_country_df = countries_df.drop(['Country', 'Region'], axis = 1)\n",
    "#Standardizing it\n",
    "standardized_country_df = (numerical_country_df-numerical_country_df.mean())/numerical_country_df.std()\n",
    "#Adding back the names and countries\n",
    "standardized_country_df.insert(0, 'Region', countries_df['Region'])\n",
    "standardized_country_df.insert(0, 'Country', countries_df['Country'])\n",
    "standardized_country_df.columns.values"
   ]
  },
  {
   "cell_type": "markdown",
   "metadata": {},
   "source": [
    "# Exploratory Analysis of the Country Data\n",
    "\n",
    "With the cleaned and organized data we can finally start to look at what it says. This will be done in a couple ways. The first will be to look at the distribution of happiness. Then we will begin to look at what variables correlate to happiness."
   ]
  },
  {
   "cell_type": "markdown",
   "metadata": {},
   "source": [
    "To look at the distribution of happiness, we will use both a box plot and a histogram."
   ]
  },
  {
   "cell_type": "code",
   "execution_count": 18,
   "metadata": {},
   "outputs": [
    {
     "data": {
      "text/plain": [
       "<matplotlib.axes._subplots.AxesSubplot at 0x7fdbe1f7ff98>"
      ]
     },
     "execution_count": 18,
     "metadata": {},
     "output_type": "execute_result"
    },
    {
     "data": {
      "image/png": "[encoded data removed]",
      "text/plain": [
       "<Figure size 1440x360 with 2 Axes>"
      ]
     },
     "metadata": {
      "needs_background": "light"
     },
     "output_type": "display_data"
    }
   ],
   "source": [
    "fig, ax = plt.subplots(1, 2, figsize=(20,5))\n",
    "countries_df['Happiness Score'].plot.box(ax = ax[0])\n",
    "countries_df['Happiness Score'].plot.hist(bins = 15, ax = ax[1])"
   ]
  },
  {
   "cell_type": "markdown",
   "metadata": {},
   "source": [
    "From these graphs, it's clear that the happiness scores follow a somewhat normal distribution. The mean value is about 5.2 with a range of 2.8 to 7.8. There doesn't appear to be much of a skew and there are not many outliers. \n",
    "\n",
    "Below, we will begin to look at which variables relate to the happiness score for each country. "
   ]
  },
  {
   "cell_type": "code",
   "execution_count": 19,
   "metadata": {},
   "outputs": [
    {
     "data": {
      "text/plain": [
       "<matplotlib.axes._subplots.AxesSubplot at 0x7fdbe1c7e780>"
      ]
     },
     "execution_count": 19,
     "metadata": {},
     "output_type": "execute_result"
    },
    {
     "data": {
      "image/png": "[encoded data removed]",
      "text/plain": [
       "<Figure size 432x288 with 1 Axes>"
      ]
     },
     "metadata": {
      "needs_background": "light"
     },
     "output_type": "display_data"
    }
   ],
   "source": [
    "countries_df.groupby('Region')['Happiness Score'].mean().sort_values().plot.bar(title = 'Happiness Score by Region')"
   ]
  },
  {
   "cell_type": "markdown",
   "metadata": {},
   "source": [
    "It's clear that there is a relationship between region and mean happiness score. The happiest regions also happen to be the wealthies regions, a relationship that will become more obvious as we do more analysis. \n",
    "\n",
    "Below, I take a look at the correlation between each variable and happiness, then select the ones with high correlation values. Since a correlation can be negative I look at large positive or negative correlation values and then plot them below to show which variables have the strongest correlation."
   ]
  },
  {
   "cell_type": "code",
   "execution_count": 20,
   "metadata": {},
   "outputs": [
    {
     "data": {
      "text/plain": [
       "<matplotlib.axes._subplots.AxesSubplot at 0x7fdbe1e809b0>"
      ]
     },
     "execution_count": 20,
     "metadata": {},
     "output_type": "execute_result"
    },
    {
     "data": {
      "image/png": "[encoded data removed]",
      "text/plain": [
       "<Figure size 432x288 with 1 Axes>"
      ]
     },
     "metadata": {
      "needs_background": "light"
     },
     "output_type": "display_data"
    }
   ],
   "source": [
    "happiness_corr_df = countries_df.corr()\n",
    "happiness_corr_df = happiness_corr_df[(happiness_corr_df['Happiness Score'] >= .4) | (happiness_corr_df['Happiness Score'] <= -.4)][\"Happiness Score\"]\n",
    "happiness_corr_df = happiness_corr_df.drop('Happiness Score')\n",
    "happiness_corr_df = happiness_corr_df.sort_values()\n",
    "happiness_corr_df.plot.bar(title = 'Largest Correlation Values for Happiness Score')\n"
   ]
  },
  {
   "cell_type": "code",
   "execution_count": 21,
   "metadata": {},
   "outputs": [
    {
     "data": {
      "text/plain": [
       "Happiness Rank           -0.992105\n",
       "Happiness Score           1.000000\n",
       "Population               -0.022815\n",
       "Population growth rate   -0.394130\n",
       "Birth rate               -0.664718\n",
       "Name: Happiness Score, dtype: float64"
      ]
     },
     "execution_count": 21,
     "metadata": {},
     "output_type": "execute_result"
    }
   ],
   "source": [
    "countries_df.corr()['Happiness Score'].head()"
   ]
  },
  {
   "cell_type": "markdown",
   "metadata": {},
   "source": [
    "As seen in the graph, the variables that correlate the most with happiness are ones based largely on health and wealth. This is a realtionship we will look at much more in depth when we begin to compare the country and county datasets. Internet and electricity use are somewhat suprising because, while they do correlate with wealth there are other metrics, such as children under the age of 5 underweight, that we thought would correlate more with happiness. "
   ]
  },
  {
   "cell_type": "code",
   "execution_count": 189,
   "metadata": {},
   "outputs": [
    {
     "data": {
      "text/html": [
       "<div>\n",
       "<style scoped>\n",
       "    .dataframe tbody tr th:only-of-type {\n",
       "        vertical-align: middle;\n",
       "    }\n",
       "\n",
       "    .dataframe tbody tr th {\n",
       "        vertical-align: top;\n",
       "    }\n",
       "\n",
       "    .dataframe thead th {\n",
       "        text-align: right;\n",
       "    }\n",
       "</style>\n",
       "<table border=\"1\" class=\"dataframe\">\n",
       "  <thead>\n",
       "    <tr style=\"text-align: right;\">\n",
       "      <th></th>\n",
       "      <th>geometry</th>\n",
       "      <th>OBJECTID</th>\n",
       "      <th>CNTRY_NAME</th>\n",
       "    </tr>\n",
       "  </thead>\n",
       "  <tbody>\n",
       "    <tr>\n",
       "      <th>0</th>\n",
       "      <td>POLYGON ((-69.88223 12.41111, -69.94695 12.436...</td>\n",
       "      <td>1</td>\n",
       "      <td>Aruba</td>\n",
       "    </tr>\n",
       "    <tr>\n",
       "      <th>1</th>\n",
       "      <td>MULTIPOLYGON (((-61.73889 17.54055, -61.75195 ...</td>\n",
       "      <td>2</td>\n",
       "      <td>Antigua and Barbuda</td>\n",
       "    </tr>\n",
       "    <tr>\n",
       "      <th>2</th>\n",
       "      <td>POLYGON ((61.27656 35.60725, 61.29638 35.62853...</td>\n",
       "      <td>3</td>\n",
       "      <td>Afghanistan</td>\n",
       "    </tr>\n",
       "    <tr>\n",
       "      <th>3</th>\n",
       "      <td>POLYGON ((-5.15213 30.18047, -5.13917 30.19236...</td>\n",
       "      <td>4</td>\n",
       "      <td>Algeria</td>\n",
       "    </tr>\n",
       "    <tr>\n",
       "      <th>4</th>\n",
       "      <td>MULTIPOLYGON (((45.02583 41.03055, 45.00999 41...</td>\n",
       "      <td>5</td>\n",
       "      <td>Azerbaijan</td>\n",
       "    </tr>\n",
       "  </tbody>\n",
       "</table>\n",
       "</div>"
      ],
      "text/plain": [
       "                                            geometry  OBJECTID           CNTRY_NAME\n",
       "0  POLYGON ((-69.88223 12.41111, -69.94695 12.436...         1                Aruba\n",
       "1  MULTIPOLYGON (((-61.73889 17.54055, -61.75195 ...         2  Antigua and Barbuda\n",
       "2  POLYGON ((61.27656 35.60725, 61.29638 35.62853...         3          Afghanistan\n",
       "3  POLYGON ((-5.15213 30.18047, -5.13917 30.19236...         4              Algeria\n",
       "4  MULTIPOLYGON (((45.02583 41.03055, 45.00999 41...         5           Azerbaijan"
      ]
     },
     "execution_count": 189,
     "metadata": {},
     "output_type": "execute_result"
    }
   ],
   "source": [
    "world_map_df = geo.read_file('Countries_WGS84.shp')\n",
    "world_map_key_df = pd.read_csv('Countries_WGS84.csv')\n",
    "world_map_df = world_map_df.merge(world_map_key_df, how = 'left', left_index = True, right_index = True )\n",
    "world_map_df.head()"
   ]
  },
  {
   "cell_type": "code",
   "execution_count": 190,
   "metadata": {},
   "outputs": [],
   "source": [
    "#Countries to rename\n",
    "world_map_df.at[25, 'Name'] = 'Myanmar'\n",
    "world_map_df.at[27, 'Name'] = 'Belarus'\n",
    "#Adding greenland as part of denmark\n",
    "world_map_df.at[86, 'Name'] = 'Denmark'\n",
    "\n",
    "#Congo at 39 what do?"
   ]
  },
  {
   "cell_type": "code",
   "execution_count": 191,
   "metadata": {},
   "outputs": [],
   "source": [
    "world_map_df = world_map_df.merge(countries_df, left_on = 'CNTRY_NAME', right_on = 'Country', how = 'left')\n"
   ]
  },
  {
   "cell_type": "code",
   "execution_count": 192,
   "metadata": {},
   "outputs": [
    {
     "name": "stderr",
     "output_type": "stream",
     "text": [
      "/opt/conda/lib/python3.7/site-packages/matplotlib/colors.py:527: RuntimeWarning: invalid value encountered in less\n",
      "  xa[xa < 0] = -1\n"
     ]
    },
    {
     "data": {
      "text/plain": [
       "<matplotlib.axes._subplots.AxesSubplot at 0x7fdbd5fbff60>"
      ]
     },
     "execution_count": 192,
     "metadata": {},
     "output_type": "execute_result"
    },
    {
     "data": {
      "image/png": "[encoded data removed]",
      "text/plain": [
       "<Figure size 720x432 with 1 Axes>"
      ]
     },
     "metadata": {
      "needs_background": "light"
     },
     "output_type": "display_data"
    }
   ],
   "source": [
    "# set the range for the choropleth\n",
    "vmin, vmax = 120, 220\n",
    "# create figure and axes for Matplotlib\n",
    "fig, ax = plt.subplots(1, figsize=(10, 6))\n",
    "world_map_df.plot(column='Happiness Score', cmap='Greens', linewidth=0.8, ax=ax, edgecolor = '0.8' )"
   ]
  },
  {
   "cell_type": "markdown",
   "metadata": {},
   "source": [
    "## County Data"
   ]
  },
  {
   "cell_type": "markdown",
   "metadata": {},
   "source": [
    "There is a lot of county data that we need and we will start loading and tidying csv files here. We will only use data from the most recent year we can find and then standardize the data over the year so we can compare the most recent data to the standardized 2015 data from the world factbook. First, we will load in a dataset that contains population estimates for counties."
   ]
  },
  {
   "cell_type": "code",
   "execution_count": 26,
   "metadata": {},
   "outputs": [
    {
     "data": {
      "text/html": [
       "<div>\n",
       "<style scoped>\n",
       "    .dataframe tbody tr th:only-of-type {\n",
       "        vertical-align: middle;\n",
       "    }\n",
       "\n",
       "    .dataframe tbody tr th {\n",
       "        vertical-align: top;\n",
       "    }\n",
       "\n",
       "    .dataframe thead th {\n",
       "        text-align: right;\n",
       "    }\n",
       "</style>\n",
       "<table border=\"1\" class=\"dataframe\">\n",
       "  <thead>\n",
       "    <tr style=\"text-align: right;\">\n",
       "      <th></th>\n",
       "      <th>FIPS</th>\n",
       "      <th>State</th>\n",
       "      <th>Area_Name</th>\n",
       "      <th>Census Pop 2010</th>\n",
       "      <th>Estimates Base 2010</th>\n",
       "      <th>Pop Estimate 2010</th>\n",
       "      <th>Pop Estimate 2011</th>\n",
       "      <th>Pop Estimate 2012</th>\n",
       "      <th>Pop Estimate 2013</th>\n",
       "      <th>Pop Estimate 2014</th>\n",
       "      <th>...</th>\n",
       "      <th>Natural increase rate 2017</th>\n",
       "      <th>Natural increase rate 2018</th>\n",
       "      <th>Net migration rate 2011</th>\n",
       "      <th>Net migration rate 2012</th>\n",
       "      <th>Net migration rate 2013</th>\n",
       "      <th>Net migration rate 2014</th>\n",
       "      <th>Net migration rate 2015</th>\n",
       "      <th>Net migration rate 2016</th>\n",
       "      <th>Net migration rate 2017</th>\n",
       "      <th>Net migration rate 2018</th>\n",
       "    </tr>\n",
       "  </thead>\n",
       "  <tbody>\n",
       "    <tr>\n",
       "      <th>0</th>\n",
       "      <td>0</td>\n",
       "      <td>US</td>\n",
       "      <td>United States</td>\n",
       "      <td>308,745,538</td>\n",
       "      <td>308,758,105</td>\n",
       "      <td>309,326,085</td>\n",
       "      <td>311,580,009</td>\n",
       "      <td>313,874,218</td>\n",
       "      <td>316,057,727</td>\n",
       "      <td>318,386,421</td>\n",
       "      <td>...</td>\n",
       "      <td>NaN</td>\n",
       "      <td>NaN</td>\n",
       "      <td>NaN</td>\n",
       "      <td>NaN</td>\n",
       "      <td>NaN</td>\n",
       "      <td>NaN</td>\n",
       "      <td>NaN</td>\n",
       "      <td>NaN</td>\n",
       "      <td>NaN</td>\n",
       "      <td>NaN</td>\n",
       "    </tr>\n",
       "    <tr>\n",
       "      <th>1</th>\n",
       "      <td>1000</td>\n",
       "      <td>AL</td>\n",
       "      <td>Alabama</td>\n",
       "      <td>4,779,736</td>\n",
       "      <td>4,780,138</td>\n",
       "      <td>4,785,448</td>\n",
       "      <td>4,798,834</td>\n",
       "      <td>4,815,564</td>\n",
       "      <td>4,830,460</td>\n",
       "      <td>4,842,481</td>\n",
       "      <td>...</td>\n",
       "      <td>1.1</td>\n",
       "      <td>0.8</td>\n",
       "      <td>0.5</td>\n",
       "      <td>1.2</td>\n",
       "      <td>1.6</td>\n",
       "      <td>0.6</td>\n",
       "      <td>0.6</td>\n",
       "      <td>0.8</td>\n",
       "      <td>1.1</td>\n",
       "      <td>1.9</td>\n",
       "    </tr>\n",
       "    <tr>\n",
       "      <th>2</th>\n",
       "      <td>1001</td>\n",
       "      <td>AL</td>\n",
       "      <td>Autauga County</td>\n",
       "      <td>54,571</td>\n",
       "      <td>54,574</td>\n",
       "      <td>54,754</td>\n",
       "      <td>55,208</td>\n",
       "      <td>54,936</td>\n",
       "      <td>54,713</td>\n",
       "      <td>54,876</td>\n",
       "      <td>...</td>\n",
       "      <td>2.7</td>\n",
       "      <td>2.2</td>\n",
       "      <td>6.0</td>\n",
       "      <td>-6.1</td>\n",
       "      <td>-3.9</td>\n",
       "      <td>2.0</td>\n",
       "      <td>-1.9</td>\n",
       "      <td>5.3</td>\n",
       "      <td>1.0</td>\n",
       "      <td>0.6</td>\n",
       "    </tr>\n",
       "    <tr>\n",
       "      <th>3</th>\n",
       "      <td>1003</td>\n",
       "      <td>AL</td>\n",
       "      <td>Baldwin County</td>\n",
       "      <td>182,265</td>\n",
       "      <td>182,264</td>\n",
       "      <td>183,111</td>\n",
       "      <td>186,540</td>\n",
       "      <td>190,143</td>\n",
       "      <td>194,886</td>\n",
       "      <td>199,189</td>\n",
       "      <td>...</td>\n",
       "      <td>0.8</td>\n",
       "      <td>0.1</td>\n",
       "      <td>16.3</td>\n",
       "      <td>17.6</td>\n",
       "      <td>22.9</td>\n",
       "      <td>20.2</td>\n",
       "      <td>17.9</td>\n",
       "      <td>21.5</td>\n",
       "      <td>22.5</td>\n",
       "      <td>24.8</td>\n",
       "    </tr>\n",
       "    <tr>\n",
       "      <th>4</th>\n",
       "      <td>1005</td>\n",
       "      <td>AL</td>\n",
       "      <td>Barbour County</td>\n",
       "      <td>27,457</td>\n",
       "      <td>27,457</td>\n",
       "      <td>27,330</td>\n",
       "      <td>27,350</td>\n",
       "      <td>27,174</td>\n",
       "      <td>26,944</td>\n",
       "      <td>26,758</td>\n",
       "      <td>...</td>\n",
       "      <td>-1.0</td>\n",
       "      <td>-2.5</td>\n",
       "      <td>0.3</td>\n",
       "      <td>-6.8</td>\n",
       "      <td>-8.1</td>\n",
       "      <td>-5.1</td>\n",
       "      <td>-15.5</td>\n",
       "      <td>-18.2</td>\n",
       "      <td>-25.0</td>\n",
       "      <td>-8.6</td>\n",
       "    </tr>\n",
       "  </tbody>\n",
       "</table>\n",
       "<p>5 rows × 46 columns</p>\n",
       "</div>"
      ],
      "text/plain": [
       "   FIPS State       Area_Name Census Pop 2010 Estimates Base 2010 Pop Estimate 2010 Pop Estimate 2011 Pop Estimate 2012 Pop Estimate 2013 Pop Estimate 2014  ... Natural increase rate 2017 Natural increase rate 2018 Net migration rate 2011 Net migration rate 2012  Net migration rate 2013  Net migration rate 2014  Net migration rate 2015  Net migration rate 2016  Net migration rate 2017  Net migration rate 2018\n",
       "0     0    US   United States     308,745,538         308,758,105       309,326,085       311,580,009       313,874,218       316,057,727       318,386,421  ...                        NaN                        NaN                     NaN                     NaN                      NaN                      NaN                      NaN                      NaN                      NaN                      NaN\n",
       "1  1000    AL         Alabama       4,779,736           4,780,138         4,785,448         4,798,834         4,815,564         4,830,460         4,842,481  ...                        1.1                        0.8                     0.5                     1.2                      1.6                      0.6                      0.6                      0.8                      1.1                      1.9\n",
       "2  1001    AL  Autauga County          54,571              54,574            54,754            55,208            54,936            54,713            54,876  ...                        2.7                        2.2                     6.0                    -6.1                     -3.9                      2.0                     -1.9                      5.3                      1.0                      0.6\n",
       "3  1003    AL  Baldwin County         182,265             182,264           183,111           186,540           190,143           194,886           199,189  ...                        0.8                        0.1                    16.3                    17.6                     22.9                     20.2                     17.9                     21.5                     22.5                     24.8\n",
       "4  1005    AL  Barbour County          27,457              27,457            27,330            27,350            27,174            26,944            26,758  ...                       -1.0                       -2.5                     0.3                    -6.8                     -8.1                     -5.1                    -15.5                    -18.2                    -25.0                     -8.6\n",
       "\n",
       "[5 rows x 46 columns]"
      ]
     },
     "execution_count": 26,
     "metadata": {},
     "output_type": "execute_result"
    }
   ],
   "source": [
    "state_pop_df = pd.read_csv('PopulationEstimates.csv')\n",
    "state_pop_df.head()"
   ]
  },
  {
   "cell_type": "markdown",
   "metadata": {},
   "source": [
    "There are some columns that are empty due to the way that the data was loaded in. First, we will drop those columns as well as the row containing the United States data (as that is irrelevant here).\n",
    "\n",
    "After we filter these columns, we will get rid of all data except for the most recent year."
   ]
  },
  {
   "cell_type": "code",
   "execution_count": 27,
   "metadata": {},
   "outputs": [
    {
     "data": {
      "text/html": [
       "<div>\n",
       "<style scoped>\n",
       "    .dataframe tbody tr th:only-of-type {\n",
       "        vertical-align: middle;\n",
       "    }\n",
       "\n",
       "    .dataframe tbody tr th {\n",
       "        vertical-align: top;\n",
       "    }\n",
       "\n",
       "    .dataframe thead th {\n",
       "        text-align: right;\n",
       "    }\n",
       "</style>\n",
       "<table border=\"1\" class=\"dataframe\">\n",
       "  <thead>\n",
       "    <tr style=\"text-align: right;\">\n",
       "      <th></th>\n",
       "      <th>FIPS</th>\n",
       "      <th>State</th>\n",
       "      <th>Area_Name</th>\n",
       "      <th>Pop Estimate 2018</th>\n",
       "      <th>Birth rate 2018</th>\n",
       "      <th>Death rate 2018</th>\n",
       "      <th>Natural increase rate 2018</th>\n",
       "      <th>Net migration rate 2018</th>\n",
       "    </tr>\n",
       "  </thead>\n",
       "  <tbody>\n",
       "    <tr>\n",
       "      <th>1</th>\n",
       "      <td>1000</td>\n",
       "      <td>AL</td>\n",
       "      <td>Alabama</td>\n",
       "      <td>4,887,871</td>\n",
       "      <td>11.7</td>\n",
       "      <td>10.9</td>\n",
       "      <td>0.8</td>\n",
       "      <td>1.9</td>\n",
       "    </tr>\n",
       "    <tr>\n",
       "      <th>2</th>\n",
       "      <td>1001</td>\n",
       "      <td>AL</td>\n",
       "      <td>Autauga County</td>\n",
       "      <td>55,601</td>\n",
       "      <td>11.8</td>\n",
       "      <td>9.6</td>\n",
       "      <td>2.2</td>\n",
       "      <td>0.6</td>\n",
       "    </tr>\n",
       "    <tr>\n",
       "      <th>3</th>\n",
       "      <td>1003</td>\n",
       "      <td>AL</td>\n",
       "      <td>Baldwin County</td>\n",
       "      <td>218,022</td>\n",
       "      <td>10.5</td>\n",
       "      <td>10.3</td>\n",
       "      <td>0.1</td>\n",
       "      <td>24.8</td>\n",
       "    </tr>\n",
       "    <tr>\n",
       "      <th>4</th>\n",
       "      <td>1005</td>\n",
       "      <td>AL</td>\n",
       "      <td>Barbour County</td>\n",
       "      <td>24,881</td>\n",
       "      <td>10.4</td>\n",
       "      <td>12.9</td>\n",
       "      <td>-2.5</td>\n",
       "      <td>-8.6</td>\n",
       "    </tr>\n",
       "    <tr>\n",
       "      <th>5</th>\n",
       "      <td>1007</td>\n",
       "      <td>AL</td>\n",
       "      <td>Bibb County</td>\n",
       "      <td>22,400</td>\n",
       "      <td>11.1</td>\n",
       "      <td>11.4</td>\n",
       "      <td>-0.3</td>\n",
       "      <td>-6.6</td>\n",
       "    </tr>\n",
       "  </tbody>\n",
       "</table>\n",
       "</div>"
      ],
      "text/plain": [
       "   FIPS State       Area_Name Pop Estimate 2018  Birth rate 2018  Death rate 2018  Natural increase rate 2018  Net migration rate 2018\n",
       "1  1000    AL         Alabama         4,887,871             11.7             10.9                         0.8                      1.9\n",
       "2  1001    AL  Autauga County            55,601             11.8              9.6                         2.2                      0.6\n",
       "3  1003    AL  Baldwin County           218,022             10.5             10.3                         0.1                     24.8\n",
       "4  1005    AL  Barbour County            24,881             10.4             12.9                        -2.5                     -8.6\n",
       "5  1007    AL     Bibb County            22,400             11.1             11.4                        -0.3                     -6.6"
      ]
     },
     "execution_count": 27,
     "metadata": {},
     "output_type": "execute_result"
    }
   ],
   "source": [
    "state_pop_df = state_pop_df[state_pop_df.columns.drop(list(state_pop_df.filter(regex='Unnamed')))]\n",
    "state_pop_df = state_pop_df.drop(0)\n",
    "\n",
    "lst = [i + 2010 for i in range(8)]\n",
    "\n",
    "\n",
    "for i in lst:\n",
    "    i = str(i)\n",
    "    if i==\"2010\":\n",
    "        state_pop_df = state_pop_df.drop(['Pop Estimate ' + i], axis=1)\n",
    "        state_pop_df = state_pop_df.drop(['Estimates Base ' + i], axis=1)\n",
    "        state_pop_df = state_pop_df.drop(['Census Pop ' + i], axis=1)\n",
    "    else:\n",
    "        state_pop_df = state_pop_df.drop(['Pop Estimate ' + i], axis=1)\n",
    "        state_pop_df = state_pop_df.drop(['Net migration rate '  + i], axis=1)\n",
    "        state_pop_df = state_pop_df.drop(['Birth rate ' + i], axis=1)\n",
    "        state_pop_df = state_pop_df.drop(['Death rate ' + i], axis=1)\n",
    "        state_pop_df = state_pop_df.drop(['Natural increase rate ' + i], axis=1)\n",
    "\n",
    "state_pop_df.head()"
   ]
  },
  {
   "cell_type": "markdown",
   "metadata": {},
   "source": [
    "Now, we will look at a dataframe containing county wide unemployment data. We need to again drop the United States row as well as all of the unnamed columns. We will also remove all but the most recent data. Area_name in this data set is not initially conducive to later joins, so we will split the area name into two different columns containing the county name and the state name"
   ]
  },
  {
   "cell_type": "code",
   "execution_count": 28,
   "metadata": {},
   "outputs": [
    {
     "data": {
      "text/html": [
       "<div>\n",
       "<style scoped>\n",
       "    .dataframe tbody tr th:only-of-type {\n",
       "        vertical-align: middle;\n",
       "    }\n",
       "\n",
       "    .dataframe tbody tr th {\n",
       "        vertical-align: top;\n",
       "    }\n",
       "\n",
       "    .dataframe thead th {\n",
       "        text-align: right;\n",
       "    }\n",
       "</style>\n",
       "<table border=\"1\" class=\"dataframe\">\n",
       "  <thead>\n",
       "    <tr style=\"text-align: right;\">\n",
       "      <th></th>\n",
       "      <th>FIPS</th>\n",
       "      <th>Unemployment_rate_2018</th>\n",
       "      <th>Median_Household_Income_2017</th>\n",
       "      <th>Med_HH_Income_Percent_of_State_Total_2017</th>\n",
       "      <th>Area_Name</th>\n",
       "      <th>State_Name</th>\n",
       "    </tr>\n",
       "  </thead>\n",
       "  <tbody>\n",
       "    <tr>\n",
       "      <th>1</th>\n",
       "      <td>1000.0</td>\n",
       "      <td>3.9</td>\n",
       "      <td>$48,193</td>\n",
       "      <td>100.0</td>\n",
       "      <td>Alabama</td>\n",
       "      <td>None</td>\n",
       "    </tr>\n",
       "    <tr>\n",
       "      <th>2</th>\n",
       "      <td>1001.0</td>\n",
       "      <td>3.6</td>\n",
       "      <td>$58,343</td>\n",
       "      <td>121.1</td>\n",
       "      <td>Autauga County</td>\n",
       "      <td>AL</td>\n",
       "    </tr>\n",
       "    <tr>\n",
       "      <th>3</th>\n",
       "      <td>1003.0</td>\n",
       "      <td>3.6</td>\n",
       "      <td>$56,607</td>\n",
       "      <td>117.5</td>\n",
       "      <td>Baldwin County</td>\n",
       "      <td>AL</td>\n",
       "    </tr>\n",
       "    <tr>\n",
       "      <th>4</th>\n",
       "      <td>1005.0</td>\n",
       "      <td>5.2</td>\n",
       "      <td>$32,490</td>\n",
       "      <td>67.4</td>\n",
       "      <td>Barbour County</td>\n",
       "      <td>AL</td>\n",
       "    </tr>\n",
       "    <tr>\n",
       "      <th>5</th>\n",
       "      <td>1007.0</td>\n",
       "      <td>4.0</td>\n",
       "      <td>$45,795</td>\n",
       "      <td>95.0</td>\n",
       "      <td>Bibb County</td>\n",
       "      <td>AL</td>\n",
       "    </tr>\n",
       "  </tbody>\n",
       "</table>\n",
       "</div>"
      ],
      "text/plain": [
       "     FIPS  Unemployment_rate_2018 Median_Household_Income_2017  Med_HH_Income_Percent_of_State_Total_2017       Area_Name State_Name\n",
       "1  1000.0                     3.9                      $48,193                                      100.0         Alabama       None\n",
       "2  1001.0                     3.6                      $58,343                                      121.1  Autauga County         AL\n",
       "3  1003.0                     3.6                      $56,607                                      117.5  Baldwin County         AL\n",
       "4  1005.0                     5.2                      $32,490                                       67.4  Barbour County         AL\n",
       "5  1007.0                     4.0                      $45,795                                       95.0     Bibb County         AL"
      ]
     },
     "execution_count": 28,
     "metadata": {},
     "output_type": "execute_result"
    }
   ],
   "source": [
    "state_unemployment_df = pd.read_csv('Unemployment.csv')\n",
    "state_unemployment_df = state_unemployment_df[state_unemployment_df.columns.drop(list(state_unemployment_df.filter(regex='Unnamed')))]\n",
    "state_unemployment_df = state_unemployment_df.drop(0)\n",
    "\n",
    "lst = [i + 2007 for i in range(11)]\n",
    "\n",
    "for i in lst:\n",
    "    i = str(i)\n",
    "    state_unemployment_df = state_unemployment_df.drop(['Unemployment_rate_' + i], axis=1)\n",
    "\n",
    "state_unemployment_df[['Area_Name', 'State_Name']] = state_unemployment_df[\"Area_name\"].str.split(\", \", expand=True)\n",
    "state_unemployment_df = state_unemployment_df.drop([\"State\", \"Area_name\"], axis=1)\n",
    "state_unemployment_df.head()"
   ]
  },
  {
   "cell_type": "markdown",
   "metadata": {},
   "source": [
    "We will now load in a dataset that contains county wide life expectancy data. We need to, again, perform similar tasks to drop the United States row, split the location into two columns, and drop all but the most recent data."
   ]
  },
  {
   "cell_type": "code",
   "execution_count": 29,
   "metadata": {},
   "outputs": [
    {
     "data": {
      "text/html": [
       "<div>\n",
       "<style scoped>\n",
       "    .dataframe tbody tr th:only-of-type {\n",
       "        vertical-align: middle;\n",
       "    }\n",
       "\n",
       "    .dataframe tbody tr th {\n",
       "        vertical-align: top;\n",
       "    }\n",
       "\n",
       "    .dataframe thead th {\n",
       "        text-align: right;\n",
       "    }\n",
       "</style>\n",
       "<table border=\"1\" class=\"dataframe\">\n",
       "  <thead>\n",
       "    <tr style=\"text-align: right;\">\n",
       "      <th></th>\n",
       "      <th>FIPS</th>\n",
       "      <th>Life expectancy, 2014</th>\n",
       "      <th>Area_Name</th>\n",
       "      <th>State_Name</th>\n",
       "    </tr>\n",
       "  </thead>\n",
       "  <tbody>\n",
       "    <tr>\n",
       "      <th>1</th>\n",
       "      <td>1.0</td>\n",
       "      <td>75.65 (75.57, 75.72)</td>\n",
       "      <td>Alabama</td>\n",
       "      <td>None</td>\n",
       "    </tr>\n",
       "    <tr>\n",
       "      <th>2</th>\n",
       "      <td>1001.0</td>\n",
       "      <td>75.67 (75.15, 76.18)</td>\n",
       "      <td>Autauga County</td>\n",
       "      <td>Alabama</td>\n",
       "    </tr>\n",
       "    <tr>\n",
       "      <th>3</th>\n",
       "      <td>1003.0</td>\n",
       "      <td>78.08 (77.72, 78.43)</td>\n",
       "      <td>Baldwin County</td>\n",
       "      <td>Alabama</td>\n",
       "    </tr>\n",
       "    <tr>\n",
       "      <th>4</th>\n",
       "      <td>1005.0</td>\n",
       "      <td>75.42 (74.78, 76.07)</td>\n",
       "      <td>Barbour County</td>\n",
       "      <td>Alabama</td>\n",
       "    </tr>\n",
       "    <tr>\n",
       "      <th>5</th>\n",
       "      <td>1007.0</td>\n",
       "      <td>73.97 (73.28, 74.68)</td>\n",
       "      <td>Bibb County</td>\n",
       "      <td>Alabama</td>\n",
       "    </tr>\n",
       "  </tbody>\n",
       "</table>\n",
       "</div>"
      ],
      "text/plain": [
       "     FIPS Life expectancy, 2014       Area_Name State_Name\n",
       "1     1.0  75.65 (75.57, 75.72)         Alabama       None\n",
       "2  1001.0  75.67 (75.15, 76.18)  Autauga County    Alabama\n",
       "3  1003.0  78.08 (77.72, 78.43)  Baldwin County    Alabama\n",
       "4  1005.0  75.42 (74.78, 76.07)  Barbour County    Alabama\n",
       "5  1007.0  73.97 (73.28, 74.68)     Bibb County    Alabama"
      ]
     },
     "execution_count": 29,
     "metadata": {},
     "output_type": "execute_result"
    }
   ],
   "source": [
    "county_life_exp_df = pd.read_csv('County Life Expectancy.csv')\n",
    "county_life_exp_df = county_life_exp_df.drop(0)\n",
    "county_life_exp_df[['Area_Name', 'State_Name']] = county_life_exp_df[\"Location\"].str.split(\", \", expand=True)\n",
    "county_life_exp_df = county_life_exp_df.drop(['Location'], axis=1)\n",
    "\n",
    "lst = [i + 1980 for i in range(7)]\n",
    "\n",
    "c=0\n",
    "for i in lst:\n",
    "    i = c+i\n",
    "    i = str(i)\n",
    "    county_life_exp_df = county_life_exp_df.drop(['Life expectancy, ' + i], axis=1)\n",
    "    c+=4\n",
    "county_life_exp_df.head()"
   ]
  },
  {
   "cell_type": "markdown",
   "metadata": {},
   "source": [
    "Now, we can start merging the data. We will first merge the county life expectancy data with the county population data. We will merge this on the FIPS column which is a unique identifier for every county in America."
   ]
  },
  {
   "cell_type": "code",
   "execution_count": 30,
   "metadata": {},
   "outputs": [
    {
     "data": {
      "text/html": [
       "<div>\n",
       "<style scoped>\n",
       "    .dataframe tbody tr th:only-of-type {\n",
       "        vertical-align: middle;\n",
       "    }\n",
       "\n",
       "    .dataframe tbody tr th {\n",
       "        vertical-align: top;\n",
       "    }\n",
       "\n",
       "    .dataframe thead th {\n",
       "        text-align: right;\n",
       "    }\n",
       "</style>\n",
       "<table border=\"1\" class=\"dataframe\">\n",
       "  <thead>\n",
       "    <tr style=\"text-align: right;\">\n",
       "      <th></th>\n",
       "      <th>FIPS</th>\n",
       "      <th>Life expectancy, 2014</th>\n",
       "      <th>Area_Name</th>\n",
       "      <th>State</th>\n",
       "      <th>Pop Estimate 2018</th>\n",
       "      <th>Birth rate 2018</th>\n",
       "      <th>Death rate 2018</th>\n",
       "      <th>Natural increase rate 2018</th>\n",
       "      <th>Net migration rate 2018</th>\n",
       "    </tr>\n",
       "  </thead>\n",
       "  <tbody>\n",
       "    <tr>\n",
       "      <th>0</th>\n",
       "      <td>1001.0</td>\n",
       "      <td>75.67 (75.15, 76.18)</td>\n",
       "      <td>Autauga County</td>\n",
       "      <td>AL</td>\n",
       "      <td>55,601</td>\n",
       "      <td>11.8</td>\n",
       "      <td>9.6</td>\n",
       "      <td>2.2</td>\n",
       "      <td>0.6</td>\n",
       "    </tr>\n",
       "    <tr>\n",
       "      <th>1</th>\n",
       "      <td>1003.0</td>\n",
       "      <td>78.08 (77.72, 78.43)</td>\n",
       "      <td>Baldwin County</td>\n",
       "      <td>AL</td>\n",
       "      <td>218,022</td>\n",
       "      <td>10.5</td>\n",
       "      <td>10.3</td>\n",
       "      <td>0.1</td>\n",
       "      <td>24.8</td>\n",
       "    </tr>\n",
       "    <tr>\n",
       "      <th>2</th>\n",
       "      <td>1005.0</td>\n",
       "      <td>75.42 (74.78, 76.07)</td>\n",
       "      <td>Barbour County</td>\n",
       "      <td>AL</td>\n",
       "      <td>24,881</td>\n",
       "      <td>10.4</td>\n",
       "      <td>12.9</td>\n",
       "      <td>-2.5</td>\n",
       "      <td>-8.6</td>\n",
       "    </tr>\n",
       "    <tr>\n",
       "      <th>3</th>\n",
       "      <td>1007.0</td>\n",
       "      <td>73.97 (73.28, 74.68)</td>\n",
       "      <td>Bibb County</td>\n",
       "      <td>AL</td>\n",
       "      <td>22,400</td>\n",
       "      <td>11.1</td>\n",
       "      <td>11.4</td>\n",
       "      <td>-0.3</td>\n",
       "      <td>-6.6</td>\n",
       "    </tr>\n",
       "    <tr>\n",
       "      <th>4</th>\n",
       "      <td>1009.0</td>\n",
       "      <td>76.16 (75.66, 76.69)</td>\n",
       "      <td>Blount County</td>\n",
       "      <td>AL</td>\n",
       "      <td>57,840</td>\n",
       "      <td>11.8</td>\n",
       "      <td>11.4</td>\n",
       "      <td>0.3</td>\n",
       "      <td>0.0</td>\n",
       "    </tr>\n",
       "  </tbody>\n",
       "</table>\n",
       "</div>"
      ],
      "text/plain": [
       "     FIPS Life expectancy, 2014       Area_Name State Pop Estimate 2018  Birth rate 2018  Death rate 2018  Natural increase rate 2018  Net migration rate 2018\n",
       "0  1001.0  75.67 (75.15, 76.18)  Autauga County    AL            55,601             11.8              9.6                         2.2                      0.6\n",
       "1  1003.0  78.08 (77.72, 78.43)  Baldwin County    AL           218,022             10.5             10.3                         0.1                     24.8\n",
       "2  1005.0  75.42 (74.78, 76.07)  Barbour County    AL            24,881             10.4             12.9                        -2.5                     -8.6\n",
       "3  1007.0  73.97 (73.28, 74.68)     Bibb County    AL            22,400             11.1             11.4                        -0.3                     -6.6\n",
       "4  1009.0  76.16 (75.66, 76.69)   Blount County    AL            57,840             11.8             11.4                         0.3                      0.0"
      ]
     },
     "execution_count": 30,
     "metadata": {},
     "output_type": "execute_result"
    }
   ],
   "source": [
    "county_merge1_df = pd.merge(county_life_exp_df, state_pop_df, on=\"FIPS\", how=\"inner\")\n",
    "county_merge1_df = county_merge1_df.drop(['State_Name', 'Area_Name_y'], axis=1)\n",
    "county_merge1_df = county_merge1_df.rename(columns={'Area_Name_x': 'Area_Name'})\n",
    "county_merge1_df.head()"
   ]
  },
  {
   "cell_type": "markdown",
   "metadata": {},
   "source": [
    "We can now merge the unemployment data with the previous data and tidy it up in the same way that we tidied the previous data"
   ]
  },
  {
   "cell_type": "code",
   "execution_count": 31,
   "metadata": {},
   "outputs": [
    {
     "data": {
      "text/html": [
       "<div>\n",
       "<style scoped>\n",
       "    .dataframe tbody tr th:only-of-type {\n",
       "        vertical-align: middle;\n",
       "    }\n",
       "\n",
       "    .dataframe tbody tr th {\n",
       "        vertical-align: top;\n",
       "    }\n",
       "\n",
       "    .dataframe thead th {\n",
       "        text-align: right;\n",
       "    }\n",
       "</style>\n",
       "<table border=\"1\" class=\"dataframe\">\n",
       "  <thead>\n",
       "    <tr style=\"text-align: right;\">\n",
       "      <th></th>\n",
       "      <th>FIPS</th>\n",
       "      <th>Life expectancy, 2014</th>\n",
       "      <th>Area_Name</th>\n",
       "      <th>State</th>\n",
       "      <th>Pop Estimate 2018</th>\n",
       "      <th>Birth rate 2018</th>\n",
       "      <th>Death rate 2018</th>\n",
       "      <th>Natural increase rate 2018</th>\n",
       "      <th>Net migration rate 2018</th>\n",
       "      <th>Unemployment_rate_2018</th>\n",
       "      <th>Median_Household_Income_2017</th>\n",
       "      <th>Med_HH_Income_Percent_of_State_Total_2017</th>\n",
       "    </tr>\n",
       "  </thead>\n",
       "  <tbody>\n",
       "    <tr>\n",
       "      <th>0</th>\n",
       "      <td>1001.0</td>\n",
       "      <td>75.67</td>\n",
       "      <td>Autauga County</td>\n",
       "      <td>AL</td>\n",
       "      <td>55,601</td>\n",
       "      <td>11.8</td>\n",
       "      <td>9.6</td>\n",
       "      <td>2.2</td>\n",
       "      <td>0.6</td>\n",
       "      <td>3.6</td>\n",
       "      <td>$58,343</td>\n",
       "      <td>121.1</td>\n",
       "    </tr>\n",
       "    <tr>\n",
       "      <th>1</th>\n",
       "      <td>1003.0</td>\n",
       "      <td>78.08</td>\n",
       "      <td>Baldwin County</td>\n",
       "      <td>AL</td>\n",
       "      <td>218,022</td>\n",
       "      <td>10.5</td>\n",
       "      <td>10.3</td>\n",
       "      <td>0.1</td>\n",
       "      <td>24.8</td>\n",
       "      <td>3.6</td>\n",
       "      <td>$56,607</td>\n",
       "      <td>117.5</td>\n",
       "    </tr>\n",
       "    <tr>\n",
       "      <th>2</th>\n",
       "      <td>1005.0</td>\n",
       "      <td>75.42</td>\n",
       "      <td>Barbour County</td>\n",
       "      <td>AL</td>\n",
       "      <td>24,881</td>\n",
       "      <td>10.4</td>\n",
       "      <td>12.9</td>\n",
       "      <td>-2.5</td>\n",
       "      <td>-8.6</td>\n",
       "      <td>5.2</td>\n",
       "      <td>$32,490</td>\n",
       "      <td>67.4</td>\n",
       "    </tr>\n",
       "    <tr>\n",
       "      <th>3</th>\n",
       "      <td>1007.0</td>\n",
       "      <td>73.97</td>\n",
       "      <td>Bibb County</td>\n",
       "      <td>AL</td>\n",
       "      <td>22,400</td>\n",
       "      <td>11.1</td>\n",
       "      <td>11.4</td>\n",
       "      <td>-0.3</td>\n",
       "      <td>-6.6</td>\n",
       "      <td>4.0</td>\n",
       "      <td>$45,795</td>\n",
       "      <td>95.0</td>\n",
       "    </tr>\n",
       "    <tr>\n",
       "      <th>4</th>\n",
       "      <td>1009.0</td>\n",
       "      <td>76.16</td>\n",
       "      <td>Blount County</td>\n",
       "      <td>AL</td>\n",
       "      <td>57,840</td>\n",
       "      <td>11.8</td>\n",
       "      <td>11.4</td>\n",
       "      <td>0.3</td>\n",
       "      <td>0.0</td>\n",
       "      <td>3.5</td>\n",
       "      <td>$48,253</td>\n",
       "      <td>100.1</td>\n",
       "    </tr>\n",
       "  </tbody>\n",
       "</table>\n",
       "</div>"
      ],
      "text/plain": [
       "     FIPS Life expectancy, 2014       Area_Name State Pop Estimate 2018  Birth rate 2018  Death rate 2018  Natural increase rate 2018  Net migration rate 2018  Unemployment_rate_2018 Median_Household_Income_2017  Med_HH_Income_Percent_of_State_Total_2017\n",
       "0  1001.0                 75.67  Autauga County    AL            55,601             11.8              9.6                         2.2                      0.6                     3.6                      $58,343                                      121.1\n",
       "1  1003.0                 78.08  Baldwin County    AL           218,022             10.5             10.3                         0.1                     24.8                     3.6                      $56,607                                      117.5\n",
       "2  1005.0                 75.42  Barbour County    AL            24,881             10.4             12.9                        -2.5                     -8.6                     5.2                      $32,490                                       67.4\n",
       "3  1007.0                 73.97     Bibb County    AL            22,400             11.1             11.4                        -0.3                     -6.6                     4.0                      $45,795                                       95.0\n",
       "4  1009.0                 76.16   Blount County    AL            57,840             11.8             11.4                         0.3                      0.0                     3.5                      $48,253                                      100.1"
      ]
     },
     "execution_count": 31,
     "metadata": {},
     "output_type": "execute_result"
    }
   ],
   "source": [
    "county_merge2_df = pd.merge(county_merge1_df, state_unemployment_df, on=\"FIPS\", how=\"inner\")\n",
    "county_merge2_df = county_merge2_df.drop(['Area_Name_y', 'State_Name'], axis=1)\n",
    "county_merge2_df = county_merge2_df.rename(columns = {'Area_Name_x': 'Area_Name'})\n",
    "county_merge2_df['Life expectancy, 2014'] = county_merge2_df['Life expectancy, 2014'].str[:5]\n",
    "county_merge2_df.head()"
   ]
  },
  {
   "cell_type": "markdown",
   "metadata": {},
   "source": [
    "We need to turn all the columns that we want to standardize into floats with no commas or dollar signs. This will be done in the cell below"
   ]
  },
  {
   "cell_type": "code",
   "execution_count": 32,
   "metadata": {},
   "outputs": [],
   "source": [
    "object_cols = ['Pop Estimate 2018','Median_Household_Income_2017', 'Life expectancy, 2014']\n",
    "\n",
    "for i in object_cols:\n",
    "\n",
    "    county_merge2_df[i] = county_merge2_df[i].str.replace(',', \"\")\n",
    "    county_merge2_df[i] = county_merge2_df[i].str.replace('$', \"\")\n",
    "    \n",
    "    county_merge2_df[i] = county_merge2_df[i].astype('float64')"
   ]
  },
  {
   "cell_type": "markdown",
   "metadata": {},
   "source": [
    "The following code will standardize all the numerical columns in the graph so they can be used later to compare with the country data from the world factbook. I also rename the columns here as the previous column names would no longer be accurate."
   ]
  },
  {
   "cell_type": "code",
   "execution_count": 33,
   "metadata": {},
   "outputs": [
    {
     "data": {
      "text/html": [
       "<div>\n",
       "<style scoped>\n",
       "    .dataframe tbody tr th:only-of-type {\n",
       "        vertical-align: middle;\n",
       "    }\n",
       "\n",
       "    .dataframe tbody tr th {\n",
       "        vertical-align: top;\n",
       "    }\n",
       "\n",
       "    .dataframe thead th {\n",
       "        text-align: right;\n",
       "    }\n",
       "</style>\n",
       "<table border=\"1\" class=\"dataframe\">\n",
       "  <thead>\n",
       "    <tr style=\"text-align: right;\">\n",
       "      <th></th>\n",
       "      <th>FIPS</th>\n",
       "      <th>State</th>\n",
       "      <th>Area_Name</th>\n",
       "      <th>Life expectancy</th>\n",
       "      <th>Pop Estimate</th>\n",
       "      <th>Birth rate</th>\n",
       "      <th>Death rate</th>\n",
       "      <th>Natural increase rate</th>\n",
       "      <th>Net migration rate</th>\n",
       "      <th>Unemployment rate</th>\n",
       "      <th>Median household income</th>\n",
       "      <th>Median household income percent of state total</th>\n",
       "    </tr>\n",
       "  </thead>\n",
       "  <tbody>\n",
       "    <tr>\n",
       "      <th>0</th>\n",
       "      <td>1001.0</td>\n",
       "      <td>AL</td>\n",
       "      <td>Autauga County</td>\n",
       "      <td>-0.873113</td>\n",
       "      <td>-0.145590</td>\n",
       "      <td>0.250396</td>\n",
       "      <td>-0.284766</td>\n",
       "      <td>0.343824</td>\n",
       "      <td>-0.045029</td>\n",
       "      <td>-0.353223</td>\n",
       "      <td>0.537597</td>\n",
       "      <td>1.594697</td>\n",
       "    </tr>\n",
       "    <tr>\n",
       "      <th>1</th>\n",
       "      <td>1003.0</td>\n",
       "      <td>AL</td>\n",
       "      <td>Baldwin County</td>\n",
       "      <td>0.138702</td>\n",
       "      <td>0.341379</td>\n",
       "      <td>-0.266146</td>\n",
       "      <td>-0.024091</td>\n",
       "      <td>-0.173725</td>\n",
       "      <td>2.080241</td>\n",
       "      <td>-0.353223</td>\n",
       "      <td>0.409047</td>\n",
       "      <td>1.415271</td>\n",
       "    </tr>\n",
       "    <tr>\n",
       "      <th>2</th>\n",
       "      <td>1005.0</td>\n",
       "      <td>AL</td>\n",
       "      <td>Barbour County</td>\n",
       "      <td>-0.978073</td>\n",
       "      <td>-0.237694</td>\n",
       "      <td>-0.305880</td>\n",
       "      <td>0.944130</td>\n",
       "      <td>-0.814500</td>\n",
       "      <td>-0.852983</td>\n",
       "      <td>0.724706</td>\n",
       "      <td>-1.376808</td>\n",
       "      <td>-1.081743</td>\n",
       "    </tr>\n",
       "    <tr>\n",
       "      <th>3</th>\n",
       "      <td>1007.0</td>\n",
       "      <td>AL</td>\n",
       "      <td>Bibb County</td>\n",
       "      <td>-1.586841</td>\n",
       "      <td>-0.245133</td>\n",
       "      <td>-0.027742</td>\n",
       "      <td>0.385541</td>\n",
       "      <td>-0.272306</td>\n",
       "      <td>-0.677341</td>\n",
       "      <td>-0.083741</td>\n",
       "      <td>-0.391578</td>\n",
       "      <td>0.293858</td>\n",
       "    </tr>\n",
       "    <tr>\n",
       "      <th>4</th>\n",
       "      <td>1009.0</td>\n",
       "      <td>AL</td>\n",
       "      <td>Blount County</td>\n",
       "      <td>-0.667391</td>\n",
       "      <td>-0.138877</td>\n",
       "      <td>0.250396</td>\n",
       "      <td>0.385541</td>\n",
       "      <td>-0.124434</td>\n",
       "      <td>-0.097722</td>\n",
       "      <td>-0.420593</td>\n",
       "      <td>-0.209564</td>\n",
       "      <td>0.548045</td>\n",
       "    </tr>\n",
       "  </tbody>\n",
       "</table>\n",
       "</div>"
      ],
      "text/plain": [
       "     FIPS State       Area_Name  Life expectancy  Pop Estimate  Birth rate  Death rate  Natural increase rate  Net migration rate  Unemployment rate  Median household income  Median household income percent of state total\n",
       "0  1001.0    AL  Autauga County        -0.873113     -0.145590    0.250396   -0.284766               0.343824           -0.045029          -0.353223                 0.537597                                        1.594697\n",
       "1  1003.0    AL  Baldwin County         0.138702      0.341379   -0.266146   -0.024091              -0.173725            2.080241          -0.353223                 0.409047                                        1.415271\n",
       "2  1005.0    AL  Barbour County        -0.978073     -0.237694   -0.305880    0.944130              -0.814500           -0.852983           0.724706                -1.376808                                       -1.081743\n",
       "3  1007.0    AL     Bibb County        -1.586841     -0.245133   -0.027742    0.385541              -0.272306           -0.677341          -0.083741                -0.391578                                        0.293858\n",
       "4  1009.0    AL   Blount County        -0.667391     -0.138877    0.250396    0.385541              -0.124434           -0.097722          -0.420593                -0.209564                                        0.548045"
      ]
     },
     "execution_count": 33,
     "metadata": {},
     "output_type": "execute_result"
    }
   ],
   "source": [
    "standardized_county_df = county_merge2_df.drop(['Area_Name', 'State', 'FIPS'], axis = 1)\n",
    "\n",
    "standardized_county_df = (standardized_county_df-standardized_county_df.mean())/standardized_county_df.std()\n",
    "\n",
    "standardized_county_df.insert(0, 'Area_Name', county_merge2_df['Area_Name'])\n",
    "standardized_county_df.insert(0, 'State', county_merge2_df['State'])\n",
    "standardized_county_df.insert(0, 'FIPS', county_merge2_df['FIPS'])\n",
    "\n",
    "standardized_county_df = standardized_county_df.rename(columns = {\"Life expectancy, 2014\": \"Life expectancy\", \"Pop Estimate 2018\": \"Pop Estimate\", \"Birth rate 2018\": \"Birth rate\", \"Death rate 2018\": \"Death rate\", \"Natural increase rate 2018\": \"Natural increase rate\", \"Net migration rate 2018\": \"Net migration rate\", \"Unemployment_rate_2018\": \"Unemployment rate\", \"Median_Household_Income_2017\": \"Median household income\", \"Med_HH_Income_Percent_of_State_Total_2017\": \"Median household income percent of state total\"})\n",
    "standardized_county_df.head()"
   ]
  },
  {
   "cell_type": "markdown",
   "metadata": {},
   "source": [
    "## Some Mild Exploratory Data Analysis"
   ]
  },
  {
   "cell_type": "markdown",
   "metadata": {},
   "source": [
    "There is not too much we can do with data analysis yet with just the county data (before we connect it to the happiness metric from the world factbook), but here is a little bit of data analysis to start."
   ]
  },
  {
   "cell_type": "markdown",
   "metadata": {},
   "source": [
    "If we wanted to look at how all the county data correlates with each other we could plot a heatmap of their correlation. It is interesting to me that when it is plotted it can be seen that life expectancy and median household income have a correlation of 0.65. Other than that, there are not many that are very correlated other than ones that we know should be (like median household income percent of state income to median household income)."
   ]
  },
  {
   "cell_type": "code",
   "execution_count": 34,
   "metadata": {},
   "outputs": [
    {
     "data": {
      "image/png": "[encoded data removed]",
      "text/plain": [
       "<Figure size 1440x1440 with 2 Axes>"
      ]
     },
     "metadata": {
      "needs_background": "light"
     },
     "output_type": "display_data"
    }
   ],
   "source": [
    "corr = standardized_county_df.corr()\n",
    "fig, ax = plt.subplots(figsize=(20,20))\n",
    "colormap = sns.diverging_palette(220, 10, as_cmap=True)\n",
    "sns.heatmap(corr, cmap=colormap, annot=True, fmt = \".2f\")\n",
    "plt.xticks(range(len(corr.columns)), corr.columns)\n",
    "plt.yticks(range(len(corr.columns)), corr.columns)\n",
    "plt.show()"
   ]
  },
  {
   "cell_type": "markdown",
   "metadata": {},
   "source": [
    "We can also make some bar charts with some of the more interesting data collected. Shown below is the median household income by state, life expectancy by state, and unemployment rate by state. All of this was found by finding the mean of the counties for each state."
   ]
  },
  {
   "cell_type": "code",
   "execution_count": 35,
   "metadata": {},
   "outputs": [
    {
     "data": {
      "image/png": "[encoded data removed]",
      "text/plain": [
       "<Figure size 1440x720 with 1 Axes>"
      ]
     },
     "metadata": {
      "needs_background": "light"
     },
     "output_type": "display_data"
    }
   ],
   "source": [
    "fig, ax = plt.subplots(figsize = (20,10))\n",
    "\n",
    "ax1 = county_merge2_df.groupby('State')['Median_Household_Income_2017'].mean().sort_values().plot.bar(title = 'Median household income by state')"
   ]
  },
  {
   "cell_type": "code",
   "execution_count": 36,
   "metadata": {},
   "outputs": [
    {
     "data": {
      "image/png": "[encoded data removed]",
      "text/plain": [
       "<Figure size 1440x720 with 1 Axes>"
      ]
     },
     "metadata": {
      "needs_background": "light"
     },
     "output_type": "display_data"
    }
   ],
   "source": [
    "fig, ax = plt.subplots(figsize = (20,10))\n",
    "ax2 = county_merge2_df.groupby('State')['Life expectancy, 2014'].mean().sort_values().plot.bar(title = 'Life expectancy by state')"
   ]
  },
  {
   "cell_type": "code",
   "execution_count": 37,
   "metadata": {},
   "outputs": [
    {
     "data": {
      "image/png": "[encoded data removed]",
      "text/plain": [
       "<Figure size 1440x720 with 1 Axes>"
      ]
     },
     "metadata": {
      "needs_background": "light"
     },
     "output_type": "display_data"
    }
   ],
   "source": [
    "fig, ax = plt.subplots(figsize = (20,10))\n",
    "ax2 = county_merge2_df.groupby('State')['Unemployment_rate_2018'].mean().sort_values().plot.bar(title = 'Unemployment rate by state')"
   ]
  },
  {
   "cell_type": "markdown",
   "metadata": {},
   "source": [
    "It is clear that life expectancy is not very interesting at all, but household income and unemployment rate yield some more interesting figures. I find it interesting that DC is towards the top of both household income and unemployment."
   ]
  },
  {
   "cell_type": "markdown",
   "metadata": {},
   "source": [
    "### In conclusion"
   ]
  },
  {
   "cell_type": "markdown",
   "metadata": {},
   "source": [
    "There are still many things to be done with this project, but we believe that this is enough work for the current milestone. "
   ]
  },
  {
   "cell_type": "markdown",
   "metadata": {},
   "source": [
    "Here is our to-do list of what still needs to be done:\n",
    " - Find more county data to be able to match with country data (such as obesity/health statistics and internet usage per county).\n",
    " - Create the happiness model using the country data correlations\n",
    " - Use the happiness model on the county dataframes to determine the happiest places in the United States.\n",
    " - Group the United States in differing geographies (such as region or state) and determine if happiness changes regionally."
   ]
  },
  {
   "cell_type": "code",
   "execution_count": 174,
   "metadata": {},
   "outputs": [],
   "source": [
    "#The relevant columns for the model\n",
    "parameters = ['Happiness Score','Life expectancy at birth', 'Birth rate',\n",
    "              'Death rate', 'Population', 'Unemployment rate', 'Net migration rate',\n",
    "              'GDP - per capita (PPP)']\n",
    "#The columns to be used as in the model\n",
    "x_cols = ['Life expectancy at birth', 'Birth rate', 'Death rate',\n",
    "             'Population', 'Unemployment rate', 'Net migration rate', 'GDP - per capita (PPP)']\n",
    "#Creatinga a dataframe that just contains the necesary columns and DROPPING THE NA VALUES\n",
    "model_df = countries_df[parameters].dropna()\n",
    "#Isolating the X_values and y_values\n",
    "X_values = model_df[x_cols].values\n",
    "y_values = model_df['Happiness Score'].values"
   ]
  },
  {
   "cell_type": "code",
   "execution_count": 175,
   "metadata": {},
   "outputs": [],
   "source": [
    "#Splitting the data into training and testing data\n",
    "X_train, X_test, y_train, y_test = sklearn.model_selection.train_test_split(X_values, y_values, test_size=0.2, random_state=0)"
   ]
  },
  {
   "cell_type": "code",
   "execution_count": 176,
   "metadata": {},
   "outputs": [],
   "source": [
    "#generating the three models to compare: lasso, linearRegression, and ridge\n",
    "#For both lasso and ridge, various values of alpha were used\n",
    "linear_model = sklearn.linear_model.LinearRegression()\n",
    "lasso = sklearn.linear_model.Lasso()\n",
    "lasso01 = sklearn.linear_model.Lasso(alpha = .01)\n",
    "lasso0001 = sklearn.linear_model.Lasso(alpha = .0001)\n",
    "ridge = sklearn.linear_model.Ridge()\n",
    "ridge01 = sklearn.linear_model.Ridge(alpha = .01)\n",
    "ridge100 = sklearn.linear_model.Ridge(alpha = 100)"
   ]
  },
  {
   "cell_type": "code",
   "execution_count": 177,
   "metadata": {},
   "outputs": [],
   "source": [
    "#Function to get the rmse of a model based on 10-fold cross val analysis\n",
    "def get_rmse_10_fold(model):\n",
    "    scores = sklearn.model_selection.cross_val_score(model, X_values, y_values, cv = 10, scoring=\"neg_mean_squared_error\")\n",
    "    mse = np.mean(-scores)\n",
    "    rmse = np.sqrt(mse)\n",
    "    return rmse"
   ]
  },
  {
   "cell_type": "code",
   "execution_count": 178,
   "metadata": {},
   "outputs": [
    {
     "name": "stderr",
     "output_type": "stream",
     "text": [
      "/opt/conda/lib/python3.7/site-packages/sklearn/linear_model/ridge.py:147: LinAlgWarning: Ill-conditioned matrix (rcond=8.61421e-17): result may not be accurate.\n",
      "  overwrite_a=True).T\n",
      "/opt/conda/lib/python3.7/site-packages/sklearn/linear_model/ridge.py:147: LinAlgWarning: Ill-conditioned matrix (rcond=8.4537e-17): result may not be accurate.\n",
      "  overwrite_a=True).T\n",
      "/opt/conda/lib/python3.7/site-packages/sklearn/linear_model/ridge.py:147: LinAlgWarning: Ill-conditioned matrix (rcond=7.35761e-17): result may not be accurate.\n",
      "  overwrite_a=True).T\n",
      "/opt/conda/lib/python3.7/site-packages/sklearn/linear_model/ridge.py:147: LinAlgWarning: Ill-conditioned matrix (rcond=8.75603e-17): result may not be accurate.\n",
      "  overwrite_a=True).T\n",
      "/opt/conda/lib/python3.7/site-packages/sklearn/linear_model/ridge.py:147: LinAlgWarning: Ill-conditioned matrix (rcond=8.7793e-17): result may not be accurate.\n",
      "  overwrite_a=True).T\n",
      "/opt/conda/lib/python3.7/site-packages/sklearn/linear_model/ridge.py:147: LinAlgWarning: Ill-conditioned matrix (rcond=8.75735e-17): result may not be accurate.\n",
      "  overwrite_a=True).T\n",
      "/opt/conda/lib/python3.7/site-packages/sklearn/linear_model/ridge.py:147: LinAlgWarning: Ill-conditioned matrix (rcond=8.16174e-17): result may not be accurate.\n",
      "  overwrite_a=True).T\n",
      "/opt/conda/lib/python3.7/site-packages/sklearn/linear_model/ridge.py:147: LinAlgWarning: Ill-conditioned matrix (rcond=7.44366e-17): result may not be accurate.\n",
      "  overwrite_a=True).T\n",
      "/opt/conda/lib/python3.7/site-packages/sklearn/linear_model/ridge.py:147: LinAlgWarning: Ill-conditioned matrix (rcond=8.59135e-17): result may not be accurate.\n",
      "  overwrite_a=True).T\n",
      "/opt/conda/lib/python3.7/site-packages/sklearn/linear_model/ridge.py:147: LinAlgWarning: Ill-conditioned matrix (rcond=8.43029e-17): result may not be accurate.\n",
      "  overwrite_a=True).T\n",
      "/opt/conda/lib/python3.7/site-packages/sklearn/linear_model/ridge.py:147: LinAlgWarning: Ill-conditioned matrix (rcond=7.33558e-17): result may not be accurate.\n",
      "  overwrite_a=True).T\n",
      "/opt/conda/lib/python3.7/site-packages/sklearn/linear_model/ridge.py:147: LinAlgWarning: Ill-conditioned matrix (rcond=8.73274e-17): result may not be accurate.\n",
      "  overwrite_a=True).T\n",
      "/opt/conda/lib/python3.7/site-packages/sklearn/linear_model/ridge.py:147: LinAlgWarning: Ill-conditioned matrix (rcond=8.75657e-17): result may not be accurate.\n",
      "  overwrite_a=True).T\n",
      "/opt/conda/lib/python3.7/site-packages/sklearn/linear_model/ridge.py:147: LinAlgWarning: Ill-conditioned matrix (rcond=8.73368e-17): result may not be accurate.\n",
      "  overwrite_a=True).T\n",
      "/opt/conda/lib/python3.7/site-packages/sklearn/linear_model/ridge.py:147: LinAlgWarning: Ill-conditioned matrix (rcond=8.13863e-17): result may not be accurate.\n",
      "  overwrite_a=True).T\n",
      "/opt/conda/lib/python3.7/site-packages/sklearn/linear_model/ridge.py:147: LinAlgWarning: Ill-conditioned matrix (rcond=7.42158e-17): result may not be accurate.\n",
      "  overwrite_a=True).T\n",
      "/opt/conda/lib/python3.7/site-packages/sklearn/linear_model/ridge.py:147: LinAlgWarning: Ill-conditioned matrix (rcond=1.09179e-16): result may not be accurate.\n",
      "  overwrite_a=True).T\n",
      "/opt/conda/lib/python3.7/site-packages/sklearn/linear_model/ridge.py:147: LinAlgWarning: Ill-conditioned matrix (rcond=1.08132e-16): result may not be accurate.\n",
      "  overwrite_a=True).T\n",
      "/opt/conda/lib/python3.7/site-packages/sklearn/linear_model/ridge.py:147: LinAlgWarning: Ill-conditioned matrix (rcond=9.58113e-17): result may not be accurate.\n",
      "  overwrite_a=True).T\n",
      "/opt/conda/lib/python3.7/site-packages/sklearn/linear_model/ridge.py:147: LinAlgWarning: Ill-conditioned matrix (rcond=1.10716e-16): result may not be accurate.\n",
      "  overwrite_a=True).T\n",
      "/opt/conda/lib/python3.7/site-packages/sklearn/linear_model/ridge.py:147: LinAlgWarning: Ill-conditioned matrix (rcond=1.04884e-16): result may not be accurate.\n",
      "  overwrite_a=True).T\n",
      "/opt/conda/lib/python3.7/site-packages/sklearn/linear_model/ridge.py:147: LinAlgWarning: Ill-conditioned matrix (rcond=9.67072e-17): result may not be accurate.\n",
      "  overwrite_a=True).T\n"
     ]
    }
   ],
   "source": [
    "#Getting the rmse for each model from the 10 fold cross val testing\n",
    "linear_model_rmse = get_rmse_10_fold(linear_model)\n",
    "lasso_rmse = get_rmse_10_fold(lasso)\n",
    "lasso01_rmse = get_rmse_10_fold(lasso01)\n",
    "lasso0001_rmse = get_rmse_10_fold(lasso0001)\n",
    "ridge_rmse = get_rmse_10_fold(ridge)\n",
    "ridge01_rmse = get_rmse_10_fold(ridge01)\n",
    "ridge100_rmse = get_rmse_10_fold(ridge100)"
   ]
  },
  {
   "cell_type": "code",
   "execution_count": 179,
   "metadata": {},
   "outputs": [
    {
     "name": "stdout",
     "output_type": "stream",
     "text": [
      "Linear Model RMSE:  0.8128896264634309\n",
      "Lasso RMSE:  0.8081026338290902\n",
      "Lasso with alpha = .01 RMSE:  0.8098531998333298\n",
      "Lasso with alpha = .0001 RMSE:  0.8128584162939078\n",
      "Ridge RMSE:  0.8128243386499419\n",
      "Ridge with alpha = .01 RMSE:  0.8128889719424608\n",
      "Ridge with alpha = 100 RMSE:  0.8076297020488389\n"
     ]
    }
   ],
   "source": [
    "#Displaying the rmse cross_val_scores of each model\n",
    "print('Linear Model RMSE: ', linear_model_rmse)\n",
    "print('Lasso RMSE: ', lasso_rmse)\n",
    "print('Lasso with alpha = .01 RMSE: ', lasso01_rmse)\n",
    "print('Lasso with alpha = .0001 RMSE: ', lasso0001_rmse)\n",
    "print('Ridge RMSE: ', ridge_rmse)\n",
    "print('Ridge with alpha = .01 RMSE: ', ridge01_rmse)\n",
    "print('Ridge with alpha = 100 RMSE: ', ridge100_rmse)"
   ]
  },
  {
   "cell_type": "code",
   "execution_count": 182,
   "metadata": {},
   "outputs": [
    {
     "data": {
      "text/plain": [
       "Lasso(alpha=1.0, copy_X=True, fit_intercept=True, max_iter=1000,\n",
       "      normalize=False, positive=False, precompute=False, random_state=None,\n",
       "      selection='cyclic', tol=0.0001, warm_start=False)"
      ]
     },
     "execution_count": 182,
     "metadata": {},
     "output_type": "execute_result"
    }
   ],
   "source": [
    "#Fitting the lasso model to all the countries\n",
    "lasso.fit(X_values, y_values)"
   ]
  },
  {
   "cell_type": "code",
   "execution_count": 188,
   "metadata": {},
   "outputs": [],
   "source": [
    "counties_test = standardized_county_df.rename(columns={\"Life expectancy\": 'Life expectancy at birth',\n",
    "                                                                 'Pop Estimate': \"Population\",\n",
    "                                                                'Median household income': 'GDP - per capita (PPP)'})\n",
    "counties_test = counties_test[x_cols].dropna()\n",
    "\n",
    "county_happiness = lasso.predict(counties_test)"
   ]
  },
  {
   "cell_type": "code",
   "execution_count": 208,
   "metadata": {},
   "outputs": [
    {
     "name": "stdout",
     "output_type": "stream",
     "text": [
      "POLYGON ((-117.438831576286 48.04411548512263, -117.5421921872581 48.04329014316636, -117.5367092995284 47.79001268278663, -117.6081222557733 47.79800412932188, -117.627250379294 47.82692363072796, -117.662438583904 47.84425379145202, -117.6749675980573 47.88379358717848, -117.6984130184204 47.87032350084479, -117.7115501601926 47.83940871505585, -117.7269387573228 47.83058125493222, -117.8048157180002 47.81127337139468, -117.8217085490234 47.81624360635012, -117.8428516942659 47.83683130868188, -117.8699305981509 47.84725262368679, -117.9363409419158 47.8279445329331, -117.9942826203341 47.8298429437622, -118.0321717839521 47.79871778176913, -118.0718465810053 47.79658112416266, -118.1033122509496 47.82625587665966, -118.1209066122748 47.83118057586444, -118.1262175623975 47.86566984037434, -118.1589116097249 47.88566645861614, -118.2131833863816 47.94047254213561, -118.2784181928836 47.9302139954226, -118.3281486720314 47.88829696413054, -118.3442628365379 47.88537853176497, -118.3553891009114 47.96633524258679, -118.3810339135727 47.99787167684894, -118.3863068913346 48.02362144449417, -118.3657448838064 48.041337545312, -118.2806566454276 48.04352419381652, -118.2498171309079 48.05624685146926, -118.2366715450773 48.07525618832754, -118.2462712480167 48.1175774465393, -118.1947402158703 48.14752437745949, -118.190400643291 48.20611220766169, -118.1483305828664 48.24012560026534, -118.1455312479875 48.27335260755039, -118.1703898825464 48.29805681426771, -118.2126323986182 48.45225790954058, -118.1954963994339 48.48194110609602, -118.1459790421044 48.52805509344688, -118.1476119572314 48.5432797825962, -118.1269733833329 48.57022389237058, -118.1223195156463 48.61597830788374, -118.090068341052 48.64347962190627, -118.1243038693768 48.69032430523336, -118.1150260767384 48.7065677726222, -118.1279436729915 48.74250262885251, -118.1245422197622 48.78226777215052, -118.1409922816603 48.78490718795969, -118.2096650632394 48.87492976109462, -118.2008085410496 48.91337887457483, -118.2149478319647 48.93683916269727, -118.2123633802414 48.98125812187784, -118.2003547376642 48.99990881937111, -117.4385804303028 48.99991850672649, -117.4338877095866 48.92108172080639, -117.4996162085844 48.91900816051996, -117.5003714596753 48.83995384943827, -117.5660182118989 48.83831974281836, -117.5672618714736 48.74635275686731, -117.6355410977651 48.74466943640993, -117.6359879076052 48.65135590806186, -117.5064180789621 48.6528074572468, -117.5003217796015 48.13331225006495, -117.4401070953449 48.13305369610413, -117.438831576286 48.04411548512263))\n"
     ]
    }
   ],
   "source": [
    "county_map_df = geo.read_file('./UScounties.shp')\n",
    "print(county_map_df.iloc[2]['geometry'])"
   ]
  },
  {
   "cell_type": "code",
   "execution_count": null,
   "metadata": {},
   "outputs": [],
   "source": []
  },
  {
   "cell_type": "code",
   "execution_count": null,
   "metadata": {},
   "outputs": [],
   "source": []
  },
  {
   "cell_type": "code",
   "execution_count": null,
   "metadata": {},
   "outputs": [],
   "source": []
  },
  {
   "cell_type": "code",
   "execution_count": null,
   "metadata": {},
   "outputs": [],
   "source": []
  },
  {
   "cell_type": "code",
   "execution_count": null,
   "metadata": {},
   "outputs": [],
   "source": []
  }
 ],
 "metadata": {
  "kernelspec": {
   "display_name": "Python 3",
   "language": "python",
   "name": "python3"
  },
  "language_info": {
   "codemirror_mode": {
    "name": "ipython",
    "version": 3
   },
   "file_extension": ".py",
   "mimetype": "text/x-python",
   "name": "python",
   "nbconvert_exporter": "python",
   "pygments_lexer": "ipython3",
   "version": "3.7.3"
  }
 },
 "nbformat": 4,
 "nbformat_minor": 2
}
